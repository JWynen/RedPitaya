{
 "cells": [
  {
   "cell_type": "code",
   "execution_count": 1,
   "metadata": {
    "collapsed": false,
    "deletable": true,
    "editable": true
   },
   "outputs": [],
   "source": [
    "import oscilloscope\n",
    "app = oscilloscope.oscilloscope()"
   ]
  },
  {
   "cell_type": "code",
   "execution_count": 2,
   "metadata": {
    "collapsed": false,
    "deletable": true,
    "editable": true,
    "scrolled": false
   },
   "outputs": [
    {
     "data": {
      "text/html": [
       "\n",
       "    <div class=\"bk-root\">\n",
       "        <a href=\"http://bokeh.pydata.org\" target=\"_blank\" class=\"bk-logo bk-logo-small bk-logo-notebook\"></a>\n",
       "        <span id=\"99b78b95-c54f-49ff-abc9-f2685b9baee4\">Loading BokehJS ...</span>\n",
       "    </div>"
      ]
     },
     "metadata": {},
     "output_type": "display_data"
    },
    {
     "data": {
      "application/javascript": [
       "\n",
       "(function(global) {\n",
       "  function now() {\n",
       "    return new Date();\n",
       "  }\n",
       "\n",
       "  var force = true;\n",
       "\n",
       "  if (typeof (window._bokeh_onload_callbacks) === \"undefined\" || force === true) {\n",
       "    window._bokeh_onload_callbacks = [];\n",
       "    window._bokeh_is_loading = undefined;\n",
       "  }\n",
       "\n",
       "\n",
       "  \n",
       "  if (typeof (window._bokeh_timeout) === \"undefined\" || force === true) {\n",
       "    window._bokeh_timeout = Date.now() + 5000;\n",
       "    window._bokeh_failed_load = false;\n",
       "  }\n",
       "\n",
       "  var NB_LOAD_WARNING = {'data': {'text/html':\n",
       "     \"<div style='background-color: #fdd'>\\n\"+\n",
       "     \"<p>\\n\"+\n",
       "     \"BokehJS does not appear to have successfully loaded. If loading BokehJS from CDN, this \\n\"+\n",
       "     \"may be due to a slow or bad network connection. Possible fixes:\\n\"+\n",
       "     \"</p>\\n\"+\n",
       "     \"<ul>\\n\"+\n",
       "     \"<li>re-rerun `output_notebook()` to attempt to load from CDN again, or</li>\\n\"+\n",
       "     \"<li>use INLINE resources instead, as so:</li>\\n\"+\n",
       "     \"</ul>\\n\"+\n",
       "     \"<code>\\n\"+\n",
       "     \"from bokeh.resources import INLINE\\n\"+\n",
       "     \"output_notebook(resources=INLINE)\\n\"+\n",
       "     \"</code>\\n\"+\n",
       "     \"</div>\"}};\n",
       "\n",
       "  function display_loaded() {\n",
       "    if (window.Bokeh !== undefined) {\n",
       "      document.getElementById(\"99b78b95-c54f-49ff-abc9-f2685b9baee4\").textContent = \"BokehJS successfully loaded.\";\n",
       "    } else if (Date.now() < window._bokeh_timeout) {\n",
       "      setTimeout(display_loaded, 100)\n",
       "    }\n",
       "  }\n",
       "\n",
       "  function run_callbacks() {\n",
       "    window._bokeh_onload_callbacks.forEach(function(callback) { callback() });\n",
       "    delete window._bokeh_onload_callbacks\n",
       "    console.info(\"Bokeh: all callbacks have finished\");\n",
       "  }\n",
       "\n",
       "  function load_libs(js_urls, callback) {\n",
       "    window._bokeh_onload_callbacks.push(callback);\n",
       "    if (window._bokeh_is_loading > 0) {\n",
       "      console.log(\"Bokeh: BokehJS is being loaded, scheduling callback at\", now());\n",
       "      return null;\n",
       "    }\n",
       "    if (js_urls == null || js_urls.length === 0) {\n",
       "      run_callbacks();\n",
       "      return null;\n",
       "    }\n",
       "    console.log(\"Bokeh: BokehJS not loaded, scheduling load and callback at\", now());\n",
       "    window._bokeh_is_loading = js_urls.length;\n",
       "    for (var i = 0; i < js_urls.length; i++) {\n",
       "      var url = js_urls[i];\n",
       "      var s = document.createElement('script');\n",
       "      s.src = url;\n",
       "      s.async = false;\n",
       "      s.onreadystatechange = s.onload = function() {\n",
       "        window._bokeh_is_loading--;\n",
       "        if (window._bokeh_is_loading === 0) {\n",
       "          console.log(\"Bokeh: all BokehJS libraries loaded\");\n",
       "          run_callbacks()\n",
       "        }\n",
       "      };\n",
       "      s.onerror = function() {\n",
       "        console.warn(\"failed to load library \" + url);\n",
       "      };\n",
       "      console.log(\"Bokeh: injecting script tag for BokehJS library: \", url);\n",
       "      document.getElementsByTagName(\"head\")[0].appendChild(s);\n",
       "    }\n",
       "  };var element = document.getElementById(\"99b78b95-c54f-49ff-abc9-f2685b9baee4\");\n",
       "  if (element == null) {\n",
       "    console.log(\"Bokeh: ERROR: autoload.js configured with elementid '99b78b95-c54f-49ff-abc9-f2685b9baee4' but no matching script tag was found. \")\n",
       "    return false;\n",
       "  }\n",
       "\n",
       "  var js_urls = [\"https://cdn.pydata.org/bokeh/release/bokeh-0.12.4.min.js\", \"https://cdn.pydata.org/bokeh/release/bokeh-widgets-0.12.4.min.js\"];\n",
       "\n",
       "  var inline_js = [\n",
       "    function(Bokeh) {\n",
       "      Bokeh.set_log_level(\"info\");\n",
       "    },\n",
       "    \n",
       "    function(Bokeh) {\n",
       "      \n",
       "      document.getElementById(\"99b78b95-c54f-49ff-abc9-f2685b9baee4\").textContent = \"BokehJS is loading...\";\n",
       "    },\n",
       "    function(Bokeh) {\n",
       "      console.log(\"Bokeh: injecting CSS: https://cdn.pydata.org/bokeh/release/bokeh-0.12.4.min.css\");\n",
       "      Bokeh.embed.inject_css(\"https://cdn.pydata.org/bokeh/release/bokeh-0.12.4.min.css\");\n",
       "      console.log(\"Bokeh: injecting CSS: https://cdn.pydata.org/bokeh/release/bokeh-widgets-0.12.4.min.css\");\n",
       "      Bokeh.embed.inject_css(\"https://cdn.pydata.org/bokeh/release/bokeh-widgets-0.12.4.min.css\");\n",
       "    }\n",
       "  ];\n",
       "\n",
       "  function run_inline_js() {\n",
       "    \n",
       "    if ((window.Bokeh !== undefined) || (force === true)) {\n",
       "      for (var i = 0; i < inline_js.length; i++) {\n",
       "        inline_js[i](window.Bokeh);\n",
       "      }if (force === true) {\n",
       "        display_loaded();\n",
       "      }} else if (Date.now() < window._bokeh_timeout) {\n",
       "      setTimeout(run_inline_js, 100);\n",
       "    } else if (!window._bokeh_failed_load) {\n",
       "      console.log(\"Bokeh: BokehJS failed to load within specified timeout.\");\n",
       "      window._bokeh_failed_load = true;\n",
       "    } else if (force !== true) {\n",
       "      var cell = $(document.getElementById(\"99b78b95-c54f-49ff-abc9-f2685b9baee4\")).parents('.cell').data().cell;\n",
       "      cell.output_area.append_execute_result(NB_LOAD_WARNING)\n",
       "    }\n",
       "\n",
       "  }\n",
       "\n",
       "  if (window._bokeh_is_loading === 0) {\n",
       "    console.log(\"Bokeh: BokehJS loaded, going straight to plotting\");\n",
       "    run_inline_js();\n",
       "  } else {\n",
       "    load_libs(js_urls, function() {\n",
       "      console.log(\"Bokeh: BokehJS plotting callback run at\", now());\n",
       "      run_inline_js();\n",
       "    });\n",
       "  }\n",
       "}(this));"
      ]
     },
     "metadata": {},
     "output_type": "display_data"
    },
    {
     "data": {
      "text/html": [
       "\n",
       "\n",
       "    <div class=\"bk-root\">\n",
       "        <div class=\"bk-plotdiv\" id=\"4d7e634b-7d8e-41b9-bbbb-bd964f49a56e\"></div>\n",
       "    </div>\n",
       "<script type=\"text/javascript\">\n",
       "  \n",
       "  (function(global) {\n",
       "    function now() {\n",
       "      return new Date();\n",
       "    }\n",
       "  \n",
       "    var force = false;\n",
       "  \n",
       "    if (typeof (window._bokeh_onload_callbacks) === \"undefined\" || force === true) {\n",
       "      window._bokeh_onload_callbacks = [];\n",
       "      window._bokeh_is_loading = undefined;\n",
       "    }\n",
       "  \n",
       "  \n",
       "    \n",
       "    if (typeof (window._bokeh_timeout) === \"undefined\" || force === true) {\n",
       "      window._bokeh_timeout = Date.now() + 0;\n",
       "      window._bokeh_failed_load = false;\n",
       "    }\n",
       "  \n",
       "    var NB_LOAD_WARNING = {'data': {'text/html':\n",
       "       \"<div style='background-color: #fdd'>\\n\"+\n",
       "       \"<p>\\n\"+\n",
       "       \"BokehJS does not appear to have successfully loaded. If loading BokehJS from CDN, this \\n\"+\n",
       "       \"may be due to a slow or bad network connection. Possible fixes:\\n\"+\n",
       "       \"</p>\\n\"+\n",
       "       \"<ul>\\n\"+\n",
       "       \"<li>re-rerun `output_notebook()` to attempt to load from CDN again, or</li>\\n\"+\n",
       "       \"<li>use INLINE resources instead, as so:</li>\\n\"+\n",
       "       \"</ul>\\n\"+\n",
       "       \"<code>\\n\"+\n",
       "       \"from bokeh.resources import INLINE\\n\"+\n",
       "       \"output_notebook(resources=INLINE)\\n\"+\n",
       "       \"</code>\\n\"+\n",
       "       \"</div>\"}};\n",
       "  \n",
       "    function display_loaded() {\n",
       "      if (window.Bokeh !== undefined) {\n",
       "        document.getElementById(\"4d7e634b-7d8e-41b9-bbbb-bd964f49a56e\").textContent = \"BokehJS successfully loaded.\";\n",
       "      } else if (Date.now() < window._bokeh_timeout) {\n",
       "        setTimeout(display_loaded, 100)\n",
       "      }\n",
       "    }if ((window.Jupyter !== undefined) && Jupyter.notebook.kernel) {\n",
       "      comm_manager = Jupyter.notebook.kernel.comm_manager\n",
       "      comm_manager.register_target(\"752f663a-52df-43b0-8fed-9ca3a47e4af1\", function () {});\n",
       "    }\n",
       "  \n",
       "    function run_callbacks() {\n",
       "      window._bokeh_onload_callbacks.forEach(function(callback) { callback() });\n",
       "      delete window._bokeh_onload_callbacks\n",
       "      console.info(\"Bokeh: all callbacks have finished\");\n",
       "    }\n",
       "  \n",
       "    function load_libs(js_urls, callback) {\n",
       "      window._bokeh_onload_callbacks.push(callback);\n",
       "      if (window._bokeh_is_loading > 0) {\n",
       "        console.log(\"Bokeh: BokehJS is being loaded, scheduling callback at\", now());\n",
       "        return null;\n",
       "      }\n",
       "      if (js_urls == null || js_urls.length === 0) {\n",
       "        run_callbacks();\n",
       "        return null;\n",
       "      }\n",
       "      console.log(\"Bokeh: BokehJS not loaded, scheduling load and callback at\", now());\n",
       "      window._bokeh_is_loading = js_urls.length;\n",
       "      for (var i = 0; i < js_urls.length; i++) {\n",
       "        var url = js_urls[i];\n",
       "        var s = document.createElement('script');\n",
       "        s.src = url;\n",
       "        s.async = false;\n",
       "        s.onreadystatechange = s.onload = function() {\n",
       "          window._bokeh_is_loading--;\n",
       "          if (window._bokeh_is_loading === 0) {\n",
       "            console.log(\"Bokeh: all BokehJS libraries loaded\");\n",
       "            run_callbacks()\n",
       "          }\n",
       "        };\n",
       "        s.onerror = function() {\n",
       "          console.warn(\"failed to load library \" + url);\n",
       "        };\n",
       "        console.log(\"Bokeh: injecting script tag for BokehJS library: \", url);\n",
       "        document.getElementsByTagName(\"head\")[0].appendChild(s);\n",
       "      }\n",
       "    };var element = document.getElementById(\"4d7e634b-7d8e-41b9-bbbb-bd964f49a56e\");\n",
       "    if (element == null) {\n",
       "      console.log(\"Bokeh: ERROR: autoload.js configured with elementid '4d7e634b-7d8e-41b9-bbbb-bd964f49a56e' but no matching script tag was found. \")\n",
       "      return false;\n",
       "    }\n",
       "  \n",
       "    var js_urls = [];\n",
       "  \n",
       "    var inline_js = [\n",
       "      function(Bokeh) {\n",
       "        (function() {\n",
       "          var fn = function() {\n",
       "            var docs_json = {\"4432d23e-ba6a-40ae-ad08-b5ae44470603\":{\"roots\":{\"references\":[{\"attributes\":{\"callback\":null,\"mode\":\"vline\",\"plot\":{\"id\":\"6dfeff62-4803-4a04-a14e-e992103dcd3f\",\"subtype\":\"Figure\",\"type\":\"Plot\"},\"renderers\":[{\"id\":\"89b9d6e0-41a2-4a98-9349-5708e718bba3\",\"type\":\"GlyphRenderer\"},{\"id\":\"256b8061-6e9b-4074-b2bd-4842a4310bd6\",\"type\":\"GlyphRenderer\"}],\"tooltips\":[[\"T\",\"@x\"],[\"V\",\"@y\"]]},\"id\":\"ae118a40-78a8-4f94-bc2c-264b846cdcd7\",\"type\":\"HoverTool\"},{\"attributes\":{\"overlay\":{\"id\":\"28cb7a77-5664-4f91-a171-85bada22b4ce\",\"type\":\"BoxAnnotation\"},\"plot\":{\"id\":\"6dfeff62-4803-4a04-a14e-e992103dcd3f\",\"subtype\":\"Figure\",\"type\":\"Plot\"}},\"id\":\"d92b564f-a854-458b-8132-f3ef51ffd265\",\"type\":\"BoxZoomTool\"},{\"attributes\":{\"active_drag\":\"auto\",\"active_scroll\":\"auto\",\"active_tap\":\"auto\",\"tools\":[{\"id\":\"2730db09-93fc-4443-b060-c1b36882c82c\",\"type\":\"PanTool\"},{\"id\":\"c1d18f9e-6757-4743-85e3-1dbf401f57be\",\"type\":\"WheelZoomTool\"},{\"id\":\"d92b564f-a854-458b-8132-f3ef51ffd265\",\"type\":\"BoxZoomTool\"},{\"id\":\"d38cd9ba-9ee0-4513-8fc2-08b8a0563110\",\"type\":\"ResetTool\"},{\"id\":\"205f3723-35e4-4c43-b515-06168fdbea33\",\"type\":\"CrosshairTool\"},{\"id\":\"ae118a40-78a8-4f94-bc2c-264b846cdcd7\",\"type\":\"HoverTool\"}]},\"id\":\"06a8dfe5-08df-4395-9e03-756711166dfa\",\"type\":\"Toolbar\"},{\"attributes\":{\"line_alpha\":{\"value\":0.7},\"line_color\":{\"value\":\"red\"},\"x\":{\"field\":\"x\"},\"y\":{\"field\":\"y\"}},\"id\":\"628c4c8b-f790-43ad-a6d1-daf55fdcc3f5\",\"type\":\"Line\"},{\"attributes\":{\"data_source\":{\"id\":\"8daad43e-143a-437d-af94-b87644c63bf2\",\"type\":\"ColumnDataSource\"},\"glyph\":{\"id\":\"2800d23a-176a-43da-ab8e-a423fdfd18bd\",\"type\":\"Line\"},\"hover_glyph\":null,\"nonselection_glyph\":{\"id\":\"99870fff-e27d-402c-8eb6-40c398048dcf\",\"type\":\"Line\"},\"selection_glyph\":null},\"id\":\"17cedb43-bf9b-4ac7-91f1-6e3a6df6fe49\",\"type\":\"GlyphRenderer\"},{\"attributes\":{\"callback\":null,\"column_names\":[\"y\",\"x\"],\"data\":{\"x\":[-4.096e-06,4.088e-06],\"y\":[0.0999786370433668,0.0999786370433668]}},\"id\":\"b9011db8-7215-4ffa-a831-a4b5a58d476f\",\"type\":\"ColumnDataSource\"},{\"attributes\":{},\"id\":\"55e4ecfa-8e63-4916-85cf-c0039c8acb35\",\"type\":\"BasicTickFormatter\"},{\"attributes\":{\"plot\":{\"id\":\"6dfeff62-4803-4a04-a14e-e992103dcd3f\",\"subtype\":\"Figure\",\"type\":\"Plot\"}},\"id\":\"2730db09-93fc-4443-b060-c1b36882c82c\",\"type\":\"PanTool\"},{\"attributes\":{\"axis_label\":\"time [s]\",\"formatter\":{\"id\":\"8bf866be-dc67-4051-9f3f-d4001be5f967\",\"type\":\"BasicTickFormatter\"},\"plot\":{\"id\":\"6dfeff62-4803-4a04-a14e-e992103dcd3f\",\"subtype\":\"Figure\",\"type\":\"Plot\"},\"ticker\":{\"id\":\"4563c466-157d-4fdf-8bf1-2dc5f607d2cd\",\"type\":\"BasicTicker\"}},\"id\":\"8d2ca84f-2af2-4853-831a-3c22921f4b37\",\"type\":\"LinearAxis\"},{\"attributes\":{\"dimension\":1,\"plot\":{\"id\":\"6dfeff62-4803-4a04-a14e-e992103dcd3f\",\"subtype\":\"Figure\",\"type\":\"Plot\"},\"ticker\":{\"id\":\"cfe43f11-de24-4476-ab75-b1cc08d9b46b\",\"type\":\"BasicTicker\"}},\"id\":\"565cab48-9bb0-465b-a63e-2143c7c10e68\",\"type\":\"Grid\"},{\"attributes\":{},\"id\":\"cfe43f11-de24-4476-ab75-b1cc08d9b46b\",\"type\":\"BasicTicker\"},{\"attributes\":{\"bottom\":{\"field\":\"bottom\"},\"fill_alpha\":{\"value\":0.25},\"fill_color\":{\"value\":\"grey\"},\"left\":{\"field\":\"left\"},\"line_alpha\":{\"value\":0.25},\"line_color\":{\"value\":\"grey\"},\"right\":{\"field\":\"right\"},\"top\":{\"field\":\"top\"}},\"id\":\"e539cff3-0876-496b-9f53-7f0132e5d250\",\"type\":\"Quad\"},{\"attributes\":{\"data_source\":{\"id\":\"b9011db8-7215-4ffa-a831-a4b5a58d476f\",\"type\":\"ColumnDataSource\"},\"glyph\":{\"id\":\"e18491fd-8f4d-4b02-b41b-a2b73128642b\",\"type\":\"Line\"},\"hover_glyph\":null,\"nonselection_glyph\":{\"id\":\"a523e627-b570-4c30-9d77-13c44d477ae0\",\"type\":\"Line\"},\"selection_glyph\":null},\"id\":\"a75c0c6e-fa6f-4562-bac7-01fcdd85f5a1\",\"type\":\"GlyphRenderer\"},{\"attributes\":{\"line_alpha\":{\"value\":0.1},\"line_color\":{\"value\":\"#1f77b4\"},\"x\":{\"field\":\"x\"},\"y\":{\"field\":\"y\"}},\"id\":\"a523e627-b570-4c30-9d77-13c44d477ae0\",\"type\":\"Line\"},{\"attributes\":{\"line_alpha\":{\"value\":0.1},\"line_color\":{\"value\":\"#1f77b4\"},\"x\":{\"field\":\"x\"},\"y\":{\"field\":\"y\"}},\"id\":\"028a39f6-52b3-41e5-af42-d1cffb938675\",\"type\":\"Line\"},{\"attributes\":{\"data_source\":{\"id\":\"461d0875-dcc8-414d-974c-05ab014cbb89\",\"type\":\"ColumnDataSource\"},\"glyph\":{\"id\":\"e539cff3-0876-496b-9f53-7f0132e5d250\",\"type\":\"Quad\"},\"hover_glyph\":null,\"nonselection_glyph\":{\"id\":\"784e3614-0305-450a-8b8f-a178bc6d91c2\",\"type\":\"Quad\"},\"selection_glyph\":null},\"id\":\"7e56afd9-e406-434e-a32c-a160d093ca71\",\"type\":\"GlyphRenderer\"},{\"attributes\":{\"bottom_units\":\"screen\",\"fill_alpha\":{\"value\":0.5},\"fill_color\":{\"value\":\"lightgrey\"},\"left_units\":\"screen\",\"level\":\"overlay\",\"line_alpha\":{\"value\":1.0},\"line_color\":{\"value\":\"black\"},\"line_dash\":[4,4],\"line_width\":{\"value\":2},\"plot\":null,\"render_mode\":\"css\",\"right_units\":\"screen\",\"top_units\":\"screen\"},\"id\":\"28cb7a77-5664-4f91-a171-85bada22b4ce\",\"type\":\"BoxAnnotation\"},{\"attributes\":{\"callback\":null,\"column_names\":[\"left\",\"top\",\"right\",\"bottom\"],\"data\":{\"bottom\":[-1.2],\"left\":[0],\"right\":[0],\"top\":[1.2]}},\"id\":\"543e7c89-5f70-4e66-bf72-935112585ec9\",\"type\":\"ColumnDataSource\"},{\"attributes\":{\"line_alpha\":{\"value\":0.1},\"line_color\":{\"value\":\"#1f77b4\"},\"x\":{\"field\":\"x\"},\"y\":{\"field\":\"y\"}},\"id\":\"99870fff-e27d-402c-8eb6-40c398048dcf\",\"type\":\"Line\"},{\"attributes\":{\"line_alpha\":{\"value\":0.75},\"x\":{\"field\":\"x\"},\"y\":{\"field\":\"y\"}},\"id\":\"2800d23a-176a-43da-ab8e-a423fdfd18bd\",\"type\":\"Line\"},{\"attributes\":{},\"id\":\"4563c466-157d-4fdf-8bf1-2dc5f607d2cd\",\"type\":\"BasicTicker\"},{\"attributes\":{\"callback\":null},\"id\":\"a8a02014-5ecd-49b7-b5c5-37ab5ff0f492\",\"type\":\"DataRange1d\"},{\"attributes\":{\"plot\":{\"id\":\"6dfeff62-4803-4a04-a14e-e992103dcd3f\",\"subtype\":\"Figure\",\"type\":\"Plot\"}},\"id\":\"205f3723-35e4-4c43-b515-06168fdbea33\",\"type\":\"CrosshairTool\"},{\"attributes\":{\"callback\":null,\"column_names\":[\"y\",\"x\"],\"data\":{\"x\":[0,0],\"y\":[-1.2,1.2]}},\"id\":\"8daad43e-143a-437d-af94-b87644c63bf2\",\"type\":\"ColumnDataSource\"},{\"attributes\":{\"callback\":null,\"column_names\":[\"y\",\"x\"],\"data\":{\"x\":{\"__ndarray__\":\"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\",\"dtype\":\"float64\",\"shape\":[1024]},\"y\":{\"__ndarray__\":\"AAAAAAAAAAAAAAAAAAAAAAAAAAAAAAAAAAAAAAAAAAAAAAAAAAAAAAAAAAAAAAAAAAAAAAAAAAAAAAAAAAAAAAAAAAAAAAAAAAAAAAAAAAAAAAAAAAAAAAAAAAAAAAAAAAAAAAAAAAAAAAAAAAAAAAAAAAAAAAAAAAAAAAAAAAAAAAAAAAAAAAAAAAAAAAAAAAAAAAAAAAAAAAAAAAAAAAAAAAAAAAAAAAAAAAAAAAAAAAAAAAAAAAAAAAAAAAAAAAAAAAAAAAAAAAAAAAAAAAAAAAAAAAAAAAAAAAAAAAAAAAAAAAAAAAAAAAAAAAAAAAAAAAAAAAAAAAAAAAAAAAAAAAAAAAAAAAAAAAAAAAAAAAAAAAAAAAAAAAAAAAAAAAAAAAAAAAAAAAAAAAAAAAAAAAAAAAAAAAAAAAAAAAAAAAAAAAAAAAAAAAAAAAAAAAAAAAAAAAAAAAAAAAAAAAAAAAAAAAAAAAAAAAAAAAAAAAAAAAAAAAAAAAAAAAAAAAAAAAAAAAAAAAAAAAAAAAAAAAAAAAAAAAAAAAAAAAAAAAAAAAAAAAAAAAAAAAAAAAAAAAAAAAAAAAAAAAAAAAAAAAAAAAAAAAAAAAAAAAAAAAAAAAAAAAAAAAAAAAAAAAAAAAAAAAAAAAAAAAAAAAAAAAAAAAAAAAAAAAAAAAAAAAAAAAAAAAAAAAAAAAAAAAAAAAAAAAAAAAAAAAAAAAAAAAAAAAAAAAAAAAAAAAAAAAAAAAAAAAAAAAAAAAAAAAAAAAAAAAAAAAAAAAAAAAAAAAAAAAAAAAAAAAAAAAAAAAAAAAAAAAAAAAAAAAAAAAAAAAAAAAAAAAAAAAAAAAAAAAAAAAAAAAAAAAAAAAAAAAAAAAAAAAAAAAAAAAAAAAAAAAAAAAAAAAAAAAAAAAAAAAAAAAAAAAAAAAAAAAAAAAAAAAAAAAAAAAAAAAAAAAAAAAAAAAAAAAAAAAAAAAAAAAAAAAAAAAAAAAAAAAAAAAAAAAAAAAAAAAAAAAAAAAAAAAAAAAAAAAAAAAAAAAAAAAAAAAAAAAAAAAAAAAAAAAAAAAAAAAAAAAAAAAAAAAAAAAAAAAAAAAAAAAAAAAAAAAAAAAAAAAAAAAAAAAAAAAAAAAAAAAAAAAAAAAAAAAAAAAAAAAAAAAAAAAAAAAAAAAAAAAAAAAAAAAAAAAAAAAAAAAAAAAAAAAAAAAAAAAAAAAAAAAAAAAAAAAAAAAAAAAAAAAAAAAAAAAAAAAAAAAAAAAAAAAAAAAAAAAAAAAAAAAAAAAAAAAAAAAAAAAAAAAAAAAAAAAAAAAAAAAAAAAAAAAAAAAAAAAAAAAAAAAAAAAAAAAAAAAAAAAAAAAAAAAAAAAAAAAAAAAAAAAAAAAAAAAAAAAAAAAAAAAAAAAAAAAAAAAAAAAAAAAAAAAAAAAAAAAAAAAAAAAAAAAAAAAAAAAAAAAAAAAAAAAAAAAAAAAAAAAAAAAAAAAAAAAAAAAAAAAAAAAAAAAAAAAAAAAAAAAAAAAAAAAAAAAAAAAAAAAAAAAAAAAAAAAAAAAAAAAAAAAAAAAAAAAAAAAAAAAAAAAAAAAAAAAAAAAAAAAAAAAAAAAAAAAAAAAAAAAAAAAAAAAAAAAAAAAAAAAAAAAAAAAAAAAAAAAAAAAAAAAAAAAAAAAAAAAAAAAAAAAAAAAAAAAAAAAAAAAAAAAAAAAAAAAAAAAAAAAAAAAAAAAAAAAAAAAAAAAAAAAAAAAAAAAAAAAAAAAAAAAAAAAAAAAAAAAAAAAAAAAAAAAAAAAAAAAAAAAAAAAAAAAAAAAAAAAAAAAAAAAAAAAAAAAAAAAAAAAAAAAAAAAAAAAAAAAAAAAAAAAAAAAAAAAAAAAAAAAAAAAAAAAAAAAAAAAAAAAAAAAAAAAAAAAAAAAAAAAAAAAAAAAAAAAAAAAAAAAAAAAAAAAAAAAAAAAAAAAAAAAAAAAAAAAAAAAAAAAAAAAAAAAAAAAAAAAAAAAAAAAAAAAAAAAAAAAAAAAAAAAAAAAAAAAAAAAAAAAAAAAAAAAAAAAAAAAAAAAAAAAAAAAAAAAAAAAAAAAAAAAAAAAAAAAAAAAAAAAAAAAAAAAAAAAAAAAAAAAAAAAAAAAAAAAAAAAAAAAAAAAAAAAAAAAAAAAAAAAAAAAAAAAAAAAAAAAAAAAAAAAAAAAAAAAAAAAAAAAAAAAAAAAAAAAAAAAAAAAAAAAAAAAAAAAAAAAAAAAAAAAAAAAAAAAAAAAAAAAAAAAAAAAAAAAAAAAAAAAAAAAAAAAAAAAAAAAAAAAAAAAAAAAAAAAAAAAAAAAAAAAAAAAAAAAAAAAAAAAAAAAAAAAAAAAAAAAAAAAAAAAAAAAAAAAAAAAAAAAAAAAAAAAAAAAAAAAAAAAAAAAAAAAAAAAAAAAAAAAAAAAAAAAAAAAAAAAAAAAAAAAAAAAAAAAAAAAAAAAAAAAAAAAAAAAAAAAAAAAAAAAAAAAAAAAAAAAAAAAAAAAAAAAAAAAAAAAAAAAAAAAAAAAAAAAAAAAAAAAAAAAAAAAAAAAAAAAAAAAAAAAAAAAAAAAAAAAAAAAAAAAAAAAAAAAAAAAAAAAAAAAAAAAAAAAAAAAAAAAAAAAAAAAAAAAAAAAAAAAAAAAAAAAAAAAAAAAAAAAAAAAAAAAAAAAAAAAAAAAAAAAAAAAAAAAAAAAAAAAAAAAAAAAAAAAAAAAAAAAAAAAAAAAAAAAAAAAAAAAAAAAAAAAAAAAAAAAAAAAAAAAAAAAAAAAAAAAAAAAAAAAAAAAAAAAAAAAAAAAAAAAAAAAAAAAAAAAAAAAAAAAAAAAAAAAAAAAAAAAAAAAAAAAAAAAAAAAAAAAAAAAAAAAAAAAAAAAAAAAAAAAAAAAAAAAAAAAAAAAAAAAAAAAAAAAAAAAAAAAAAAAAAAAAAAAAAAAAAAAAAAAAAAAAAAAAAAAAAAAAAAAAAAAAAAAAAAAAAAAAAAAAAAAAAAAAAAAAAAAAAAAAAAAAAAAAAAAAAAAAAAAAAAAAAAAAAAAAAAAAAAAAAAAAAAAAAAAAAAAAAAAAAAAAAAAAAAAAAAAAAAAAAAAAAAAAAAAAAAAAAAAAAAAAAAAAAAAAAAAAAAAAAAAAAAAAAAAAAAAAAAAAAAAAAAAAAAAAAAAAAAAAAAAAAAAAAAAAAAAAAAAAAAAAAAAAAAAAAAAAAAAAAAAAAAAAAAAAAAAAAAAAAAAAAAAAAAAAAAAAAAAAAAAAAAAAAAAAAAAAAAAAAAAAAAAAAAAAAAAAAAAAAAAAAAAAAAAAAAAAAAAAAAAAAAAAAAAAAAAAAAAAAAAAAAAAAAAAAAAAAAAAAAAAAAAAAAAAAAAAAAAAAAAAAAAAAAAAAAAAAAAAAAAAAAAAAAAAAAAAAAAAAAAAAAAAAAAAAAAAAAAAAAAAAAAAAAAAAAAAAAAAAAAAAAAAAAAAAAAAAAAAAAAAAAAAAAAAAAAAAAAAAAAAAAAAAAAAAAAAAAAAAAAAAAAAAAAAAAAAAAAAAAAAAAAAAAAAAAAAAAAAAAAAAAAAAAAAAAAAAAAAAAAAAAAAAAAAAAAAAAAAAAAAAAAAAAAAAAAAAAAAAAAAAAAAAAAAAAAAAAAAAAAAAAAAAAAAAAAAAAAAAAAAAAAAAAAAAAAAAAAAAAAAAAAAAAAAAAAAAAAAAAAAAAAAAAAAAAAAAAAAAAAAAAAAAAAAAAAAAAAAAAAAAAAAAAAAAAAAAAAAAAAAAAAAAAAAAAAAAAAAAAAAAAAAAAAAAAAAAAAAAAAAAAAAAAAAAAAAAAAAAAAAAAAAAAAAAAAAAAAAAAAAAAAAAAAAAAAAAAAAAAAAAAAAAAAAAAAAAAAAAAAAAAAAAAAAAAAAAAAAAAAAAAAAAAAAAAAAAAAAAAAAAAAAAAAAAAAAAAAAAAAAAAAAAAAAAAAAAAAAAAAAAAAAAAAAAAAAAAAAAAAAAAAAAAAAAAAAAAAAAAAAAAAAAAAAAAAAAAAAAAAAAAAAAAAAAAAAAAAAAAAAAAAAAAAAAAAAAAAAAAAAAAAAAAAAAAAAAAAAAAAAAAAAAAAAAAAAAAAAAAAAAAAAAAAAAAAAAAAAAAAAAAAAAAAAAAAAAAAAAAAAAAAAAAAAAAAAAAAAAAAAAAAAAAAAAAAAAAAAAAAAAAAAAAAAAAAAAAAAAAAAAAAAAAAAAAAAAAAAAAAAAAAAAAAAAAAAAAAAAAAAAAAAAAAAAAAAAAAAAAAAAAAAAAAAAAAAAAAAAAAAAAAAAAAAAAAAAAAAAAAAAAAAAAAAAAAAAAAAAAAAAAAAAAAAAAAAAAAAAAAAAAAAAAAAAAAAAAAAAAAAAAAAAAAAAAAAAAAAAAAAAAAAAAAAAAAAAAAAAAAAAAAAAAAAAAAAAAAAAAAAAAAAAAAAAAAAAAAAAAAAAAAAAAAAAAAAAAAAAAAAAAAAAAAAAAAAAAAAAAAAAAAAAAAAAAAAAAAAAAAAAAAAAAAAAAAAAAAAAAAAAAAAAAAAAAAAAAAAAAAAAAAAAAAAAAAAAAAAAAAAAAAAAAAAAAAAAAAAAAAAAAAAAAAAAAAAAAAAAAAAAAAAAAAAAAAAAAAAAAAAAAAAAAAAAAAAAAAAAAAAAAAAAAAAAAAAAAAAAAAAAAAAAAAAAAAAAAAAAAAAAAAAAAAAAAAAAAAAAAAAAAAAAAAAAAAAAAAAAAAAAAAAAAAAAAAAAAAAAAAAAAAAAAAAAAAAAAAAAAAAAAAAAAAAAAAAAAAAAAAAAAAAAAAAAAAAAAAAAAAAAAAAAAAAAAAAAAAAAAAAAAAAAAAAAAAAAAAAAAAAAAAAAAAAAAAAAAAAAAAAAAAAAAAAAAAAAAAAAAAAAAAAAAAAAAAAAAAAAAAAAAAAAAAAAAAAAAAAAAAAAAAAAAAAAAAAAAAAAAAAAAAAAAAAAAAAAAAAAAAAAAAAAAAAAAAAAAAAAAAAAAAAAAAAAAAAAAAAAAAAAAAAAAAAAAAAAAAAAAAAAAAAAAAAAAAAAAAAAAAAAAAAAAAAAAAAAAAAAAAAAAAAAAAAAAAAAAAAAAAAAAAAAAAAAAAAAAAAAAAAAAAAAAAAAAAAAAAAAAAAAAAAAAAAAAAAAAAAAAAAAAAAAAAAAAAAAAAAAAAAAAAAAAAAAAAAAAAAAAAAAAAAAAAAAAAAAAAAAAAAAAAAAAAAAAAAAAAAAAAAAAAAAAAAAAAAAAAAAAAAAAAAAAAAAAAAAAAAAAAAAAAAAAAAAAAAAAAAAAAAAAAAAAAAAAAAAAAAAAAAAAAAAAAAAAAAAAAAAAAAAAAAAAAAAAAAAAAAAAAAAAAAAAAAAAAAAAAAAAAAAAAAAAAAAAAAAAAAAAAAAAAAAAAAAAAAAAAAAAAAAAAAAAAAAAAAAAAAAAAAAAAAAAAAAAAAAAAAAAAAAAAAAAAAAAAAAAAAAAAAAAAAAAAAAAAAAAAAAAAAAAAAAAAAAAAAAAAAAAAAAAAAAAAAAAAAAAAAAAAAAAAAAAAAAAAAAAAAAAAAAAAAAAAAAAAAAAAAAAAAAAAAAAAAAAAAAAAAAAAAAAAAAAAAAAAAAAAAAAAAAAAAAAAAAAAAAAAAAAAAAAAAAAAAAAAAAAAAAAAAAAAAAAAAAAAAAAAAAAAAAAAAAAAAAAAAAAAAAAAAAAAAAAAAAAAAAAAAAAAAAAAAAAAAAAAAAAAAAAAAAAAAAAAAAAAAAAAAAAAAAAAAAAAAAAAAAAAAAAAAAAAAAAAAAAAAAAAAAAAAAAAAAAAAAAAAAAAAAAAAAAAAAAAAAAAAAAAAAAAAAAAAAAAAAAAAAAAAAAAAAAAAAAAAAAAAAAAAAAAAAAAAAAAAAAAAAAAAAAAAAAAAAAAAAAAAAAAAAAAAAAAAAAAAAAAAAAAAAAAAAAAAAAAAAAAAAAAAAAAAAAAAAAAAAAAAAAAAAAAAAAAAAAAAAAAAAAAAAAAAAAAAAAAAAAAAAAAAAAAAAAAAAAAAAAAAAAAAAAAAAAAAAAAAAAAAAAAAAAAAAAAAAAAAAAAAAAAAAAAAAAAAAAAAAAAAAAAAAAAAAAAAAAAAAAAAAAAAAAAAAAAAAAAAAAAAAAAAAAAAAAAAAAAAAAAAAAAAAAAAAAAAAAAAAAAAAAAAAAAAAAAAAAAAAAAAAAAAAAAAAAAAAAAAAAAAAAAAAAAAAAAAAAAAAAAAAAAAAAAAAAAAAAAAAAAAAAAAAAAAAAAAAAAAAAAAAAAAAAAAAAAAAAAAAAAAAAAAAAAAAAAAAAAAAAAAAAAAAAAAAAAAAAAAAAAAAAAAAAAAAAAAAAAAAAAAAAAAAAAAAAAAAAAAAAAAAAAAAAAAAAAAAAAAAAAAAAAAAAAAAAAAAAAAAAAAAAAAAAAAAAAAAAAAAAAAAAAAAAAAAAAAAAAAAAAAAAAAAAAAAAAAAAAAAAAAAAAAAAAAAAAAAAAAAAAAAAAAAAAAAAAAAAAAAAAAAAAAAAAAAAAAAAAAAAAAAAAAAAAAAAAAAAAAAAAAAAAAAAAAAAAAAAAAAAAAAAAAAAAAAAAAAAAAAAAAAAAAAAAAAAAAAAAAAAAAAAAAAAAAAAAAAAAAAAAAAAAAAAAAAAAAAAAAAAAAAAAAAAAAAAAAAAAAAAAAAAAAAAAAAAAAAAAAAAAAAAAAAAAAAAAAAAAAAAAAAAAAAAAAAAAAAAAAAAAAAAAAAAAAAAAAAAAAAAAAAAAAAAAAAAAAAAAAAAAAAAAAAAAAAAAAAAAAAAAAAAAAAAAAAAAAAAAAAAAAAAAAAAAAAAAAAAAAAAAAAAAAAAAAAAAAAAAAAAAAAAAAAAAAAAAAAAAAAAAAAAAAAAAAAAAAAAAAAAAAAAAAAAAAAAAAAAAAAAAAAAAAAAAAAAAAAAAAAAAAAAAAAAAAAAAAAAAAAAAAAAAAAAAAAAAAAAAAAAAAAAAAAAAAAAAAAAAAAAAAAAAAAAAAAAAAAAAAAAAAAAAAAAAAAAAAAAAAAAAAAAAAAAAAAAAAAAAAAAAAAAAAAAAAAAAAAAAAAAAAAAAAAAAAAAAAAAAAAAAAAAAAAAAAAAAAAAAAAAAAAAAAAAAAAAAAAAAAAAAAAAAAAAAAAAAAAAAAAAAAAAAAAAAAAAAAAAAAAAAAAAAAAAAAAAAAAAAAAAAAAAAAAAAAAAAAAAAAAAAAAAAAAAAAAAAAAAAAAAAAAAAAAAAAAAAAAAAAAAAAAAAAAAAAAAAAAAAAAAAAAAAAAAAAAAAAAAAAAAAAAAAAAAAAAAAAAAAAAAAAAAAAAAAAAAAAAAAAAAAAAAAAAAAAAAAAAAAAAAAAAAAAAAAAAAAAAAAAAAAAAAAAAAAAAAAAAAAAAAAAAAAAAAAAAAAAAAAAAAAAAAAAAAAAAAAAAAAAAAAAAAAAAAAAAAAAAAAAAAAAAAAAAAAAAAAAAAAAAAAAAAAAAAAAAAAAAAAAAAAAAAAAAAAAAAAAAAAAAAAAAAAAAAAAAAAAAAAAAAAAAAAAAAAAAAAAAAAAAAAAAAAAAAAAAAAAAAAAAAAAAAAAAAAAAAAAAAAAAAAAAAAAAAAAAAAAAAAAAAAAAAAAAAAAAAAAAAAAAAAAAAAAAAAAAAAAAAAAAAAAAAAAAAAAAAAAAAAAAAAAAAAAAAAAAAAAAAAAAAAAAAAAAAAAAAAAAAAAAAAAAAAAAAAAAAAAAAAAAAAAAAAAAAAAAAAAAAAAAAAAAAAAAAAAAAAAAAAAAAAAAAAAAAAAAAAAAAAAAAAAAAAAAAAAAAAAAAAAAAAAAAAAAAAAAAAAAAAAAAAAAAAAAAAAAAAAAAAAAAAAAAAAAAAAAAAAAAAAAAAAAAAAAAAAAAAAAAAAAAAAAAAAAAAAAAAAAAAAAAAAAAAAAAAAAAAAAAAAAAAAAAAAAAAAAAAAAAAAAAAAAAAAAAAAAAAAAAAAAAAAAAAAAAAAAAAAAAAAAAAAAAAAAAAAAAAAAAAAAAAAAAAAAAAAAAAAAAAAAAAAAAAAAAAAAAAAAAAAAAAAAAAAAAAAAAAAAAAAAAAAAAAAAAAAAAAAAAAAAAAAAAAAAAAAAAAAAAAAAAAAAAAAAAAAAAAAAAAAAAAAAAAAAAAAAAAAAAAAAAAAAAAAAAAAAAAAAAAAAAAAAAAAAAAAAAAAAAAAAAAAAAAAAAAAAAAAAAAAAAAAAAAAAAAAAAAAAAAAAAAAAAAAAAAAAAAAAAAAAAAAAAAAAAAAAAAAAAAAAAAAAAAAAAAAAAAAAAAAAAAAAAAAAAAAAAAAAAAAAAAAAAAAAAAAAAAAAAAAAAAAAAAAAAAAAAAAAAAAAAAAAAAAAAAAAAAAAAAAAAAAAAAAAAAAAAAAAAAAAAAAAAAAAAAAAAAAAAAAAAAAAAAAAAAAAAAAAAAAAAAAAAAAAAAAAAAAAAAAAAAAAAAAAAAAAAAAAAAAAAAAAAAAAAAAAAAAAAAAAAAAAAAAAAAAAAAAAAAAAAAAAAAAAAAAAAAAAAAAAAAAAAAAAAAAAAAAAAAAAAAAAAAAAAAAAAAAAAAAAAAAAAAAAAAAAAAAAAAAAAAAAAAAAAAAAAAAAAAAAAAAAAAAAAAAAAAAAAAAAAAAAAAAAAAAAAAAAAAAAAAAAAAAAAAAAAAAAAAAAAAAAAAAAAAAAAAAAAAAAAAAAAAAAAAAAAAAAAAAAAAAAAAAAAAAAAAAAAAAAAAAAAAAAAAAAAAAAAAAAAAAAAAAAAAAAAAAAAAAAAAAAAAAAAAAAAAAAAAAAAAAAAAAAAAAAAAAAAAAAAAAAAAAAAAAAAAAAAAAAAAAAAAAAAAAAAAAAAAAAAAAAAAAAAAAAAAAAAAAAAAAAAAAAAAAAAAAAAAAAAAAAAAAAAAAAAAAAAAAAAAAAAAAAAAAAAAAAAAAAAAAAAAAAAAAAAAAAAAAAAAAAAAAAAAAAAAAAAAAAAAAAAAAAAAAAAAAAAAAAAAAAAAAAAAAAAAAAAAAAAAAAAAAAAAAAAAAAAAAAAAAAAAAAAAAAAAAAAAAAAAAAAAAAAAAAAAAAAAAAAAAAAAAAAAAAAAAAAAAAAAAAAAAAAAAAAAAAAAAAAAAAAAAAAAAAAAAAAAAAAAAAAAAAAAAAAAAAAAAAAAAAAAAAAAAAAAAAAAAAAAAAAAAAAAAAAAAAAAAAAAAAAAAAAAAAAAAAAAAAAAAAAAAAAAAAAAAAAAAAAAAAAAAAAAAAAAAAAAAAAAAAAAAAAAAAAAAAAAAAAAAAAAAAAAAAAAAAAAAAAAAAAAAAAAAAAAAAAAAAAAAAAAAAAAAAAAAAAAAAAAAAAAAAAAAAAAAAAAAAAAAAAAAAAAAAAAAAAAAAAAAAAAAAAAAAAAAAAAAAAAAAAAAAAAAAAAAAAAAAAAAAAAAAAAAAAAAAAAAAAAAAAAAAAAAAAAAAAAAAAAAAAAAAAAAAAAAAAAAAAAAAAAAAAAAAAAAAAAAAAAAAAAAAAAAAAAAAAAAAAAAAAAAAAAAAAAAAAAAAAAAAAAAAAAAAAAAAAAAAAAAAAAAAAAAAAAAAAAAAAAAAAAAAAAAAAAAAAAAAAAAAAAAAAAAAAAAAAAAAAAAAAAAAAAAAAAAAAAAAAAAAAAAAAAAAAAAAAAAAAAAAAAAAAAAAAAAAAAAAAAAAAAAAAAAAAAAAAAAAAAAAAAAAAAAAAAAAAAAAAAAAAAAAAAAAAAAAAAAAAAAAAAAAAAAAAAAAAAAAAAAAAAAAAAAAAAAAAAAAAAAAAAAAAAAAAAAAAAAAAAAAAAAAAAAAAAAAAAAAAAAAAAAAAAAAAAAAAAAAAAAAAAAAAAAAAAAAAAAAAAAAAAAAAAAAAAAAAAAAAAAAAAAAAAAAAAAAAAAAAAAAAAAAAAAAAAAAAAAAAAAAAAAAAAAAAAAAAAAAAAAAAAAAAAAAAAAAAAAAAAAAAAAAAAAAAAAAAAAAAAAAAAAAAAAAAAAAAAAAAAAAAAAAAAAAAAAAAAAAAAAAAAAAAAAAAAAAAAAAAAAAAAAAAAAAAAAAAAAAAAAAAAAAAAAAAAAAAAAAAAAAAAAAAAAAAAAAAAAAAAAAAAAAAAAAAAAAAAAAAAAAAAAAAAAAAAAAAAAAAAAAAAAAAAAAAAAAAAAAAAAAAAAAAAAAAAAAAAAAAAAAAAAAAAAAAAAAAAAAAAAAAAAAAAAAAAAAAAAAAAAAAAAAAAAAAAAAAAAAAAAAAAAAAAAAAAAAAAAAAAAAAAAAAAAAAAAAAAAAAAAAAAAAAAAAAAAAAAAAAAAAAAAAAAAAAAAAAAAAAAAAAAAAAAAAAAAAAAAAAAAAAAAAAAAAAAAAAAAAAAAAAAAAAAAAAAAAAAAAAAAAAAAAAAAAAAAAAAAAAAAAAAAAAAAAAAAAAAAAAAAAAAAAAAAAAAAAAAAAAAAAAAAAAAAAAAAAAAAAAAAAAAAAAAAAAAAAAAAAAAAAAAAAAAAAAAAAAAAAAAAAAAAAAAAAAAAAAAAAAAAAAAAAAAAAAAAAAAAAAAAAAAAAAAAAAAAAAAAAAAAAAAAAAAAAAAAAAAAAAAAAAAAAAAAAAAAAAAAAAAAAAAAAAAAAAAAAAAAAAAAAAAAAAAAAAAAAAAAAAAAAAAAAAAAAAAAAAAAAAAAAAAAAAAAAAAAAAAAAAAAAAAAAAAAAAAAAAAAAAAAAAAAAAAAAAAAAAAAAAAAAAAAAAAAAAAAAAAAAAAAAAAAAAAAAAAAAAAAAAAAAAAAAAAAAAAAAAAAAAAAAAAAAAAAAAAAAAAAAAAAAAAAAAAAAAAAAAAAAAAAAAAAAAAAAAAAAAAAAAAAAAAAAAAAAAAAAAAAAAAAAAAAAAAAAAAAAAAAAAAAAAAAAAAAAAAAAAAAAAAAAAAAAAAAAAAAAAAAAAAAAAAAAAAAAAAAAAAAAAAAAAAAAAAAAAAAAAAAAAAA=\",\"dtype\":\"float64\",\"shape\":[1024]}}},\"id\":\"1bed3f3f-729b-4496-8d70-fc15a18a4e35\",\"type\":\"ColumnDataSource\"},{\"attributes\":{},\"id\":\"8bf866be-dc67-4051-9f3f-d4001be5f967\",\"type\":\"BasicTickFormatter\"},{\"attributes\":{\"data_source\":{\"id\":\"1b44595d-e30e-44c6-aa08-c4c986b7d685\",\"type\":\"ColumnDataSource\"},\"glyph\":{\"id\":\"78ea2da4-86d2-4db8-820a-9eadba1dc70f\",\"type\":\"Line\"},\"hover_glyph\":null,\"nonselection_glyph\":{\"id\":\"235d8dfb-e9b1-4b9a-8b20-535dd24c1f9f\",\"type\":\"Line\"},\"selection_glyph\":null},\"id\":\"256b8061-6e9b-4074-b2bd-4842a4310bd6\",\"type\":\"GlyphRenderer\"},{\"attributes\":{\"bottom\":{\"field\":\"bottom\"},\"fill_alpha\":{\"value\":0.1},\"fill_color\":{\"value\":\"#1f77b4\"},\"left\":{\"field\":\"left\"},\"line_alpha\":{\"value\":0.1},\"line_color\":{\"value\":\"#1f77b4\"},\"right\":{\"field\":\"right\"},\"top\":{\"field\":\"top\"}},\"id\":\"784e3614-0305-450a-8b8f-a178bc6d91c2\",\"type\":\"Quad\"},{\"attributes\":{\"axis_label\":\"voltage [V]\",\"formatter\":{\"id\":\"55e4ecfa-8e63-4916-85cf-c0039c8acb35\",\"type\":\"BasicTickFormatter\"},\"plot\":{\"id\":\"6dfeff62-4803-4a04-a14e-e992103dcd3f\",\"subtype\":\"Figure\",\"type\":\"Plot\"},\"ticker\":{\"id\":\"cfe43f11-de24-4476-ab75-b1cc08d9b46b\",\"type\":\"BasicTicker\"}},\"id\":\"f292f8d3-485d-4860-8316-0833d1da8d94\",\"type\":\"LinearAxis\"},{\"attributes\":{\"line_alpha\":{\"value\":0.7},\"line_color\":{\"value\":\"blue\"},\"x\":{\"field\":\"x\"},\"y\":{\"field\":\"y\"}},\"id\":\"78ea2da4-86d2-4db8-820a-9eadba1dc70f\",\"type\":\"Line\"},{\"attributes\":{\"callback\":null,\"column_names\":[\"y\",\"x\"],\"data\":{\"x\":{\"__ndarray__\":\"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\",\"dtype\":\"float64\",\"shape\":[1024]},\"y\":{\"__ndarray__\":\"AAAAAAAAAAAAAAAAAAAAAAAAAAAAAAAAAAAAAAAAAAAAAAAAAAAAAAAAAAAAAAAAAAAAAAAAAAAAAAAAAAAAAAAAAAAAAAAAAAAAAAAAAAAAAAAAAAAAAAAAAAAAAAAAAAAAAAAAAAAAAAAAAAAAAAAAAAAAAAAAAAAAAAAAAAAAAAAAAAAAAAAAAAAAAAAAAAAAAAAAAAAAAAAAAAAAAAAAAAAAAAAAAAAAAAAAAAAAAAAAAAAAAAAAAAAAAAAAAAAAAAAAAAAAAAAAAAAAAAAAAAAAAAAAAAAAAAAAAAAAAAAAAAAAAAAAAAAAAAAAAAAAAAAAAAAAAAAAAAAAAAAAAAAAAAAAAAAAAAAAAAAAAAAAAAAAAAAAAAAAAAAAAAAAAAAAAAAAAAAAAAAAAAAAAAAAAAAAAAAAAAAAAAAAAAAAAAAAAAAAAAAAAAAAAAAAAAAAAAAAAAAAAAAAAAAAAAAAAAAAAAAAAAAAAAAAAAAAAAAAAAAAAAAAAAAAAAAAAAAAAAAAAAAAAAAAAAAAAAAAAAAAAAAAAAAAAAAAAAAAAAAAAAAAAAAAAAAAAAAAAAAAAAAAAAAAAAAAAAAAAAAAAAAAAAAAAAAAAAAAAAAAAAAAAAAAAAAAAAAAAAAAAAAAAAAAAAAAAAAAAAAAAAAAAAAAAAAAAAAAAAAAAAAAAAAAAAAAAAAAAAAAAAAAAAAAAAAAAAAAAAAAAAAAAAAAAAAAAAAAAAAAAAAAAAAAAAAAAAAAAAAAAAAAAAAAAAAAAAAAAAAAAAAAAAAAAAAAAAAAAAAAAAAAAAAAAAAAAAAAAAAAAAAAAAAAAAAAAAAAAAAAAAAAAAAAAAAAAAAAAAAAAAAAAAAAAAAAAAAAAAAAAAAAAAAAAAAAAAAAAAAAAAAAAAAAAAAAAAAAAAAAAAAAAAAAAAAAAAAAAAAAAAAAAAAAAAAAAAAAAAAAAAAAAAAAAAAAAAAAAAAAAAAAAAAAAAAAAAAAAAAAAAAAAAAAAAAAAAAAAAAAAAAAAAAAAAAAAAAAAAAAAAAAAAAAAAAAAAAAAAAAAAAAAAAAAAAAAAAAAAAAAAAAAAAAAAAAAAAAAAAAAAAAAAAAAAAAAAAAAAAAAAAAAAAAAAAAAAAAAAAAAAAAAAAAAAAAAAAAAAAAAAAAAAAAAAAAAAAAAAAAAAAAAAAAAAAAAAAAAAAAAAAAAAAAAAAAAAAAAAAAAAAAAAAAAAAAAAAAAAAAAAAAAAAAAAAAAAAAAAAAAAAAAAAAAAAAAAAAAAAAAAAAAAAAAAAAAAAAAAAAAAAAAAAAAAAAAAAAAAAAAAAAAAAAAAAAAAAAAAAAAAAAAAAAAAAAAAAAAAAAAAAAAAAAAAAAAAAAAAAAAAAAAAAAAAAAAAAAAAAAAAAAAAAAAAAAAAAAAAAAAAAAAAAAAAAAAAAAAAAAAAAAAAAAAAAAAAAAAAAAAAAAAAAAAAAAAAAAAAAAAAAAAAAAAAAAAAAAAAAAAAAAAAAAAAAAAAAAAAAAAAAAAAAAAAAAAAAAAAAAAAAAAAAAAAAAAAAAAAAAAAAAAAAAAAAAAAAAAAAAAAAAAAAAAAAAAAAAAAAAAAAAAAAAAAAAAAAAAAAAAAAAAAAAAAAAAAAAAAAAAAAAAAAAAAAAAAAAAAAAAAAAAAAAAAAAAAAAAAAAAAAAAAAAAAAAAAAAAAAAAAAAAAAAAAAAAAAAAAAAAAAAAAAAAAAAAAAAAAAAAAAAAAAAAAAAAAAAAAAAAAAAAAAAAAAAAAAAAAAAAAAAAAAAAAAAAAAAAAAAAAAAAAAAAAAAAAAAAAAAAAAAAAAAAAAAAAAAAAAAAAAAAAAAAAAAAAAAAAAAAAAAAAAAAAAAAAAAAAAAAAAAAAAAAAAAAAAAAAAAAAAAAAAAAAAAAAAAAAAAAAAAAAAAAAAAAAAAAAAAAAAAAAAAAAAAAAAAAAAAAAAAAAAAAAAAAAAAAAAAAAAAAAAAAAAAAAAAAAAAAAAAAAAAAAAAAAAAAAAAAAAAAAAAAAAAAAAAAAAAAAAAAAAAAAAAAAAAAAAAAAAAAAAAAAAAAAAAAAAAAAAAAAAAAAAAAAAAAAAAAAAAAAAAAAAAAAAAAAAAAAAAAAAAAAAAAAAAAAAAAAAAAAAAAAAAAAAAAAAAAAAAAAAAAAAAAAAAAAAAAAAAAAAAAAAAAAAAAAAAAAAAAAAAAAAAAAAAAAAAAAAAAAAAAAAAAAAAAAAAAAAAAAAAAAAAAAAAAAAAAAAAAAAAAAAAAAAAAAAAAAAAAAAAAAAAAAAAAAAAAAAAAAAAAAAAAAAAAAAAAAAAAAAAAAAAAAAAAAAAAAAAAAAAAAAAAAAAAAAAAAAAAAAAAAAAAAAAAAAAAAAAAAAAAAAAAAAAAAAAAAAAAAAAAAAAAAAAAAAAAAAAAAAAAAAAAAAAAAAAAAAAAAAAAAAAAAAAAAAAAAAAAAAAAAAAAAAAAAAAAAAAAAAAAAAAAAAAAAAAAAAAAAAAAAAAAAAAAAAAAAAAAAAAAAAAAAAAAAAAAAAAAAAAAAAAAAAAAAAAAAAAAAAAAAAAAAAAAAAAAAAAAAAAAAAAAAAAAAAAAAAAAAAAAAAAAAAAAAAAAAAAAAAAAAAAAAAAAAAAAAAAAAAAAAAAAAAAAAAAAAAAAAAAAAAAAAAAAAAAAAAAAAAAAAAAAAAAAAAAAAAAAAAAAAAAAAAAAAAAAAAAAAAAAAAAAAAAAAAAAAAAAAAAAAAAAAAAAAAAAAAAAAAAAAAAAAAAAAAAAAAAAAAAAAAAAAAAAAAAAAAAAAAAAAAAAAAAAAAAAAAAAAAAAAAAAAAAAAAAAAAAAAAAAAAAAAAAAAAAAAAAAAAAAAAAAAAAAAAAAAAAAAAAAAAAAAAAAAAAAAAAAAAAAAAAAAAAAAAAAAAAAAAAAAAAAAAAAAAAAAAAAAAAAAAAAAAAAAAAAAAAAAAAAAAAAAAAAAAAAAAAAAAAAAAAAAAAAAAAAAAAAAAAAAAAAAAAAAAAAAAAAAAAAAAAAAAAAAAAAAAAAAAAAAAAAAAAAAAAAAAAAAAAAAAAAAAAAAAAAAAAAAAAAAAAAAAAAAAAAAAAAAAAAAAAAAAAAAAAAAAAAAAAAAAAAAAAAAAAAAAAAAAAAAAAAAAAAAAAAAAAAAAAAAAAAAAAAAAAAAAAAAAAAAAAAAAAAAAAAAAAAAAAAAAAAAAAAAAAAAAAAAAAAAAAAAAAAAAAAAAAAAAAAAAAAAAAAAAAAAAAAAAAAAAAAAAAAAAAAAAAAAAAAAAAAAAAAAAAAAAAAAAAAAAAAAAAAAAAAAAAAAAAAAAAAAAAAAAAAAAAAAAAAAAAAAAAAAAAAAAAAAAAAAAAAAAAAAAAAAAAAAAAAAAAAAAAAAAAAAAAAAAAAAAAAAAAAAAAAAAAAAAAAAAAAAAAAAAAAAAAAAAAAAAAAAAAAAAAAAAAAAAAAAAAAAAAAAAAAAAAAAAAAAAAAAAAAAAAAAAAAAAAAAAAAAAAAAAAAAAAAAAAAAAAAAAAAAAAAAAAAAAAAAAAAAAAAAAAAAAAAAAAAAAAAAAAAAAAAAAAAAAAAAAAAAAAAAAAAAAAAAAAAAAAAAAAAAAAAAAAAAAAAAAAAAAAAAAAAAAAAAAAAAAAAAAAAAAAAAAAAAAAAAAAAAAAAAAAAAAAAAAAAAAAAAAAAAAAAAAAAAAAAAAAAAAAAAAAAAAAAAAAAAAAAAAAAAAAAAAAAAAAAAAAAAAAAAAAAAAAAAAAAAAAAAAAAAAAAAAAAAAAAAAAAAAAAAAAAAAAAAAAAAAAAAAAAAAAAAAAAAAAAAAAAAAAAAAAAAAAAAAAAAAAAAAAAAAAAAAAAAAAAAAAAAAAAAAAAAAAAAAAAAAAAAAAAAAAAAAAAAAAAAAAAAAAAAAAAAAAAAAAAAAAAAAAAAAAAAAAAAAAAAAAAAAAAAAAAAAAAAAAAAAAAAAAAAAAAAAAAAAAAAAAAAAAAAAAAAAAAAAAAAAAAAAAAAAAAAAAAAAAAAAAAAAAAAAAAAAAAAAAAAAAAAAAAAAAAAAAAAAAAAAAAAAAAAAAAAAAAAAAAAAAAAAAAAAAAAAAAAAAAAAAAAAAAAAAAAAAAAAAAAAAAAAAAAAAAAAAAAAAAAAAAAAAAAAAAAAAAAAAAAAAAAAAAAAAAAAAAAAAAAAAAAAAAAAAAAAAAAAAAAAAAAAAAAAAAAAAAAAAAAAAAAAAAAAAAAAAAAAAAAAAAAAAAAAAAAAAAAAAAAAAAAAAAAAAAAAAAAAAAAAAAAAAAAAAAAAAAAAAAAAAAAAAAAAAAAAAAAAAAAAAAAAAAAAAAAAAAAAAAAAAAAAAAAAAAAAAAAAAAAAAAAAAAAAAAAAAAAAAAAAAAAAAAAAAAAAAAAAAAAAAAAAAAAAAAAAAAAAAAAAAAAAAAAAAAAAAAAAAAAAAAAAAAAAAAAAAAAAAAAAAAAAAAAAAAAAAAAAAAAAAAAAAAAAAAAAAAAAAAAAAAAAAAAAAAAAAAAAAAAAAAAAAAAAAAAAAAAAAAAAAAAAAAAAAAAAAAAAAAAAAAAAAAAAAAAAAAAAAAAAAAAAAAAAAAAAAAAAAAAAAAAAAAAAAAAAAAAAAAAAAAAAAAAAAAAAAAAAAAAAAAAAAAAAAAAAAAAAAAAAAAAAAAAAAAAAAAAAAAAAAAAAAAAAAAAAAAAAAAAAAAAAAAAAAAAAAAAAAAAAAAAAAAAAAAAAAAAAAAAAAAAAAAAAAAAAAAAAAAAAAAAAAAAAAAAAAAAAAAAAAAAAAAAAAAAAAAAAAAAAAAAAAAAAAAAAAAAAAAAAAAAAAAAAAAAAAAAAAAAAAAAAAAAAAAAAAAAAAAAAAAAAAAAAAAAAAAAAAAAAAAAAAAAAAAAAAAAAAAAAAAAAAAAAAAAAAAAAAAAAAAAAAAAAAAAAAAAAAAAAAAAAAAAAAAAAAAAAAAAAAAAAAAAAAAAAAAAAAAAAAAAAAAAAAAAAAAAAAAAAAAAAAAAAAAAAAAAAAAAAAAAAAAAAAAAAAAAAAAAAAAAAAAAAAAAAAAAAAAAAAAAAAAAAAAAAAAAAAAAAAAAAAAAAAAAAAAAAAAAAAAAAAAAAAAAAAAAAAAAAAAAAAAAAAAAAAAAAAAAAAAAAAAAAAAAAAAAAAAAAAAAAAAAAAAAAAAAAAAAAAAAAAAAAAAAAAAAAAAAAAAAAAAAAAAAAAAAAAAAAAAAAAAAAAAAAAAAAAAAAAAAAAAAAAAAAAAAAAAAAAAAAAAAAAAAAAAAAAAAAAAAAAAAAAAAAAAAAAAAAAAAAAAAAAAAAAAAAAAAAAAAAAAAAAAAAAAAAAAAAAAAAAAAAAAAAAAAAAAAAAAAAAAAAAAAAAAAAAAAAAAAAAAAAAAAAAAAAAAAAAAAAAAAAAAAAAAAAAAAAAAAAAAAAAAAAAAAAAAAAAAAAAAAAAAAAAAAAAAAAAAAAAAAAAAAAAAAAAAAAAAAAAAAAAAAAAAAAAAAAAAAAAAAAAAAAAAAAAAAAAAAAAAAAAAAAAAAAAAAAAAAAAAAAAAAAAAAAAAAAAAAAAAAAAAAAAAAAAAAAAAAAAAAAAAAAAAAAAAAAAAAAAAAAAAAAAAAAAAAAAAAAAAAAAAAAAAAAAAAAAAAAAAAAAAAAAAAAAAAAAAAAAAAAAAAAAAAAAAAAAAAAAAAAAAAAAAAAAAAAAAAAAAAAAAAAAAAAAAAAAAAAAAAAAAAAAAAAAAAAAAAAAAAAAAAAAAAAAAAAAAAAAAAAAAAAAAAAAAAAAAAAAAAAAAAAAAAAAAAAAAAAAAAAAAAAAAAAAAAAAAAAAAAAAAAAAAAAAAAAAAAAAAAAAAAAAAAAAAAAAAAAAAAAAAAAAAAAAAAAAAAAAAAAAAAAAAAAAAAAAAAAAAAAAAAAAAAAAAAAAAAAAAAAAAAAAAAAAAAAAAAAAAAAAAAAAAAAAAAAAAAAAAAAAAAAAAAAAAAAAAAAAAAAAAAAAAAAAAAAAAAAAAAAAAAAAAAAAAAAAAAAAAAAAAAAAAAAAAAAAAAAAAAAAAAAAAAAAAAAAAAAAAAAAAAAAAAAAAAAAAAAAAAAAAAAAAAAAAAAAAAAAAAAAAAAAAAAAAAAAAAAAAAAAAAAAAAAAAAAAAAAAAAAAAAAAAAAAAAAAAAAAAAAAAAAAAAAAAAAAAAAAAAAAAAAAAAAAAAAAAAAAAAAAAAAAAAAAAAAAAAAAAAAAAAAAAAAAAAAAAAAAAAAAAAAAAAAAAAAAAAAAAAAAAAAAAAAAAAAAAAAAAAAAAAAAAAAAAAAAAAAAAAAAAAAAAAAAAAAAAAAAAAAAAAAAAAAAAAAAAAAAAAAAAAAAAAAAAAAAAAAAAAAAAAAAAAAAAAAAAAAAAAAAAAAAAAAAAAAAAAAAAAAAAAAAAAAAAAAAAAAAAAAAAAAAAAAAAAAAAAAAAAAAAAAAAAAAAAAAAAAAAAAAAAAAAAAAAAAAAAAAAAAAAAAAAAAAAAAAAAAAAAAAAAAAAAAAAAAAAAAAAAAAAAAAAAAAAAAAAAAAAAAAAAAAAAAAAAAAAAAAAAAAAAAAAAAAAAAAAAAAAAAAAAAAAAAAAAAAAAAAAAAAAAAAAAAAAAAAAAAAAAAAAAAAAAAAAAAAAAAAAAAAAAAAAAAAAAAAAAAAAAAAAAAAAAAAAAAAAAAAAAAAAAAAAAAAAAAAAAAAAAAAAAAAAAAAAAAAAAAAAAAAAAAAAAAAAAAAAAAAAAAAAAAAAAAAAAAAAAAAAAAAAAAAAAAAAAAAAAAAAAAAAAAAAAAAAAAAAAAAAAAAAAAAAAAAAAAAAAAAAAAAAAAAAAAAAAAAAAAAAAAAAAAAAAAAAAAAAAAAAAAAAAAAAAAAAAAAAAAAAAAAAAAAAAAAAAAAAAAAAAAAAAAAAAAAAAAAAAAAAAAAAAAAAAAAAAAAAAAAAAAAAAAAAAAAAAAAAAAAAAAAAAAAAAAAAAAAAAAAAAAAAAAAAAAAAAAAAAAAAAAAAAAAAAAAAAAAAAAAAAAAAAAAAAAAAAAAAAAAAAAAAAAAAAAAAAAAAAAAAAAAAAAAAAAAAAAAAAAAAAAAAAAAAAAAAAAAAAAAAAAAAAAAAAAAAAAAAAAAAAAAAAAAAAAAAAAAAAAAAAAAAAAAAAAAAAAAAAAAAAAAAAAAAAAAAAAAAAAAAAAAAAAAAAAAAAAAAAAAAAAAAAAAAAAAAAAAAAAAAAAAAAAAAAAAAAAAAAAAAAAAAAAAAAAAAAAAAAAAAAAAAAAAAAAAAAAAAAAAAAAAAAAAAAAAAAAAAAAAAAAAAAAAAAAAAAAAAAAAAAAAAAAAAAAAAAAAAAAAAAAAAAAAAAAAAAAAAAAAAAAAAAAAAAAAAAAAAAAAAAAAAAAAAAAAAAAAAAAAAAAAAAAAAAAAAAAAAAAAAAAAAAAAAAAAAAAAAAAAAAAAAAAAAAAAAAAAAAAAAAAAAAAAAAAAAAAAAAAAAAAAAAAAAAAAAAAAAAAAAAAAAAAAAAAAAAAAAAAAAAAAAAAAAAAAAAAAAAAAAAAAAAAAAAAAAAAAAAAAAAAAAAAAAAAAAAAAAAAAAAAAAAAAAAAAAAAAAAAAAAAAAAAAAAAAAAAAAAAAAAAAAAAAAAAAAAAAAAAAAAAAAAAAAAAAAAAAAAAAAAAAAAAAAAAAAAAAAAAAAAAAAAAAAAAAAAAAAAAAAAAAAAAAAAAAAAAAAAAAAAAAAAAAAAAAAAAAAAAAAAAAAAAAAAAAAAAAAAAAAAAAAAAAAAAAAAAAAAAAAAAAAAAAAAAAAAAAAAAAAAAAAAAAAAAAAAAAAAAAAAAAAAAAAAAAAAAAAAAAAAAAAAAAAAAAAAAAAAAAAAAAAAAAAAAAAAAAAAAAAAAAAAAAAAAAAAAAAAAAAAAAAAAAAAAAAAAAAAAAAAAAAAAAAAAAAAAAAAAAAAAAAAAAAAAAAAAAAAAAAAAAAAAAAAAAAAAAAAAAAAAAAAAAAAAAAAAAAAAAAAAAAAAAAAAAAAAAAAAAAAAAAAAAAAAAAAAAAAAAAAAAAAAAAAAAAAAAAAAAAAAAAAAAAAAAAAAAAAAAAAAAAAAAAAAAAAAAAAAAAAAAAAAAAAAAAAAAAAAAAAAAAAAAAAAAAAAAAAAAAAAAAAAAAAAAAAAAAAAAAAAAAAAAAAAAAAAAAAAAAAAAAAAAAAAAAAAAAAAAAAAAAAAAAAAAAAAAAAAAAAAAAAAAAAAAAAAAAAAAAAAAAAAAAAAAAAAAAAAAAAAAAAAAAAAAAAAAAAAAAAAAAAAAAAAAAAAAAAAAAAAAAAAAAAAAAAAAAAAAAAAAAAAAAAAAAAAAAAAAAAAAAAAAAAAAAAAAAAAAAAAAAAAAAAAAAAAAAAAAAAAAAAAAAAAAAAAAAAAAAAAAAAAAAAAAAAAAAAAAAAAAAAAAAAAAAAAAAAAAAAAAAAAAAAAAAAAAAAAAAAAAAAAAAAAAAAAAAAAAAAAAAAAAAAAAAAAAAAAAAAAAAAAAAAAAAAAAAAAAAAAAAAAAAAAAAAAAAAAAAAAAAAAAAAAAAAAAAAAAAAAAAAAAAAAAAAAAAAAAAAAAAAAAAAAAAAAAAAAAAAAAAAAAAAAAAAAAAAAAAAAAAAAAAAAAAAAAAAAAAAAAAAAAAAAAAAAAAAAAAAAAAAAAAAAAAAAAAAAAAAAAAAAAAAAAAAAAAAAAAAAAAAAAAAAAAAAAAAAAAAAAAAAAAAAAAAAAAAAAAAAAAAAAAAAAAAAAAAAAAAAAAAAAAAAAAAAAAAAAAAAAAAAAAAAAAAAAAAAAAAAAAAAAAAAAAAAAAAAAAAAAAAAAAAAAAAAAAAAAAAAAAAAAAAAAAAAAAAAAAAAAAAAAAAAAAAAAAAAAAAAAAAAAAAAAAAAAAAAAAAAAAAAAAAAAAAAAAAAAAAAAAAAAAAAAAAAAAAAAAAAAAAAAAAAAAAAAAAAAAAAAAAAAAAAAAAAAAAAAAAAAAAAAAAAAAAAAAAAAAAAAAAAAAAAAAAAAAAAAAAAAAAAAAAAAAAAAAAAAAAAAAAAAAAAAAAAAAAAAAAAAAAAAAAAAAAAAAAAAAAAAAAAAAAAAAAAAAAAAAAAAAAAAAAAAAAAAAAAAAAAAAAAAAAAAAAAAAAAAAAAAAAAAAAAAAAAAAAAAAAAAAAAAAAAAAAAAAAAAAAAAAAAAAAAAAAAAAAAAAAAAAAAAAAAAAAAAAAAAAAAAAAAAAAAAAAAAAAAAAAAAAAAAAAAAAAAAAAAAAAAAAAAAAAAAAAAAAAAAAAAAAAAAAAAAAAAAAAAAAAAAAAAAAAAAAAAAAAAAAAAAAAAAAAAAAAAAAAAAAAAAAAAAAAAAAAAAAAAAAAAAAAAAAAAAAAAAAAAAAAAAAAAAAAAAAAAAAAAAAAAAAAAAAAAAAAAAAAAAAAAAAAAAAAAAAAAAAAAAAAAAAAAAAAAAAAAAAAAAAAAAAAAAAAAAAAAAAAAAAAAAAAAAAAAAAAAAAAAAAAAAAAAAAAAAAAAAAAAAAAAAAAAAAAAAAAAAAAAAAAAAAAAAAAAAAAAAAAAAAAAAAAAAAAAAAAAAAAAAAAAAAAAAAAAAAAAAAAAAAAAAAAAAAAAAAAAAAAAAAAAAAAAAAAAAAAAAAAAAAAAAAAAAAAAAAAAAAAAAAAAAAAAAAAAAAAAAAAAAAAAAAAAAAAAAAAAAAAAAAAAAAAAAAAAAAAAAAAAAAAAAAAAAAAAAAAAAAAAAAAAAAAAAAAAAAAAAAAAAAAAAAAAAAAAAAAAAAAAAAAAAAAAAAAAAAAAAAAAAAAAAAAAAAAAAAAAAAAAAAAAAAAAAAAAAAAAAAAAAAAAAAAAAAAAAAAAAAAAAAAAAAAAAAAAAAAAAAAAAAAAAAAAAAAAAAAAAAAAAAAAAAAAAAAAAAAAAAAAAAAAAAAAAAAAAAAAAAAAAAAAAAAAAAAAAAAAAAAAAAAAAAAAAAAAAAAAAAAAAAAAAAAAAAAAAAAAAAAAAAAAAAAAAAAAAAAAAAAAAAAAAAAAAAAAAAAAAAAAAAAAAAAAAAAAAAAAAAAAAAAAAAAAAAAAAAAAAAAAAAAAAAAAAAAAAAAAAAAAAAAAAAAAAAAAAAAAAAAAAAAAAAAAAAAAAAAAAAAAAAAAAAAAAAAAAAAAAAAAAAAAAAAAAAAAAAAAAAAAAAAAAAAAAAAAAAAAAAAAAAAAAAAAAAAAAAAAAAAAAAAAAAAAAAAAAAAAAAAAAAAAAAAAAAAAAAAAAAAAAAAAAAAAAAAAAAAAAAAAAAAAAAAAAAAAAAAAAAAAAAAAAAAAAAAAAAAAAAAAAAAAAAAAAAAAAAAAAAAAAAAAAAAAAAAAAAAAAAAAAAAAAAAAAAAAAAAAAAAAAAAAAAAAAAAAAAAAAAAAAAAAAAAAAAAAAAAAAAAAAAAAAAAAAAAAAAAAAAAAAAAAAAAAAAAAAAAAAAAAAAAAAAAAAAAAAAAAAAAAAAAAAAAAAAAAAAAAAAAAAAAAAAAAAAAAAAAAAAAAAAAAAAAAAAAAAAAAAAAAAAAAAAAAAAAAAAAAAAAAAAAAAAAAAAAAAAAAAAAAAAAAAAAAAAAAAAAAAAAAAAAAAAAAAAAAAAAAAAAAAAAAAAAAAAAAAAAAAAAAAAAAAAAAAAAAAAAAAAAAAAAAAAAAAAAAAAAAAAAAAAAAAAAAAAAAAAAAAAAAAAAAAAAAAAAAAAAAAAAAAAAAAAAAAAAAAAAAAAAAAAAAAAAAAAAAAAAAAAAAAAAAAAAAAAAAAAAAAAAAAAAAAAAAAAAAAAAAAAAAAAAAAAAAAAAAAAAAAAAAAAAAAAAAAAAAAAAAAAAAAAAAAAAAAAAAAAAAAAAAAAAAAAAAAAAAAAAAAAAAAAAAAAAAAAAAAAAAAAAAAAAA=\",\"dtype\":\"float64\",\"shape\":[1024]}}},\"id\":\"1b44595d-e30e-44c6-aa08-c4c986b7d685\",\"type\":\"ColumnDataSource\"},{\"attributes\":{\"below\":[{\"id\":\"8d2ca84f-2af2-4853-831a-3c22921f4b37\",\"type\":\"LinearAxis\"}],\"left\":[{\"id\":\"f292f8d3-485d-4860-8316-0833d1da8d94\",\"type\":\"LinearAxis\"}],\"plot_height\":500,\"plot_width\":900,\"renderers\":[{\"id\":\"8d2ca84f-2af2-4853-831a-3c22921f4b37\",\"type\":\"LinearAxis\"},{\"id\":\"5265b471-c791-4625-b56e-45484b0fee19\",\"type\":\"Grid\"},{\"id\":\"f292f8d3-485d-4860-8316-0833d1da8d94\",\"type\":\"LinearAxis\"},{\"id\":\"565cab48-9bb0-465b-a63e-2143c7c10e68\",\"type\":\"Grid\"},{\"id\":\"28cb7a77-5664-4f91-a171-85bada22b4ce\",\"type\":\"BoxAnnotation\"},{\"id\":\"89b9d6e0-41a2-4a98-9349-5708e718bba3\",\"type\":\"GlyphRenderer\"},{\"id\":\"256b8061-6e9b-4074-b2bd-4842a4310bd6\",\"type\":\"GlyphRenderer\"},{\"id\":\"17cedb43-bf9b-4ac7-91f1-6e3a6df6fe49\",\"type\":\"GlyphRenderer\"},{\"id\":\"b72077d1-814b-4b28-9310-12906add0001\",\"type\":\"GlyphRenderer\"},{\"id\":\"a75c0c6e-fa6f-4562-bac7-01fcdd85f5a1\",\"type\":\"GlyphRenderer\"},{\"id\":\"7e56afd9-e406-434e-a32c-a160d093ca71\",\"type\":\"GlyphRenderer\"}],\"title\":{\"id\":\"cb02ca73-5be3-4863-af6c-1b8722290629\",\"type\":\"Title\"},\"tool_events\":{\"id\":\"6cce1074-6438-4b3c-a5e5-ea870404b4d9\",\"type\":\"ToolEvents\"},\"toolbar\":{\"id\":\"06a8dfe5-08df-4395-9e03-756711166dfa\",\"type\":\"Toolbar\"},\"toolbar_location\":\"above\",\"x_range\":{\"id\":\"a8a02014-5ecd-49b7-b5c5-37ab5ff0f492\",\"type\":\"DataRange1d\"},\"y_range\":{\"id\":\"d817271d-10a6-4296-8c43-7dde7bfa0f6b\",\"type\":\"Range1d\"}},\"id\":\"6dfeff62-4803-4a04-a14e-e992103dcd3f\",\"subtype\":\"Figure\",\"type\":\"Plot\"},{\"attributes\":{\"plot\":{\"id\":\"6dfeff62-4803-4a04-a14e-e992103dcd3f\",\"subtype\":\"Figure\",\"type\":\"Plot\"}},\"id\":\"c1d18f9e-6757-4743-85e3-1dbf401f57be\",\"type\":\"WheelZoomTool\"},{\"attributes\":{\"bottom\":{\"field\":\"bottom\"},\"fill_alpha\":{\"value\":0.25},\"fill_color\":{\"value\":\"grey\"},\"left\":{\"field\":\"left\"},\"line_alpha\":{\"value\":0.25},\"line_color\":{\"value\":\"grey\"},\"right\":{\"field\":\"right\"},\"top\":{\"field\":\"top\"}},\"id\":\"bbc27df4-6015-46d9-bf27-20cbe9766a98\",\"type\":\"Quad\"},{\"attributes\":{\"line_alpha\":{\"value\":0.1},\"line_color\":{\"value\":\"#1f77b4\"},\"x\":{\"field\":\"x\"},\"y\":{\"field\":\"y\"}},\"id\":\"235d8dfb-e9b1-4b9a-8b20-535dd24c1f9f\",\"type\":\"Line\"},{\"attributes\":{\"line_alpha\":{\"value\":0.75},\"x\":{\"field\":\"x\"},\"y\":{\"field\":\"y\"}},\"id\":\"e18491fd-8f4d-4b02-b41b-a2b73128642b\",\"type\":\"Line\"},{\"attributes\":{\"plot\":{\"id\":\"6dfeff62-4803-4a04-a14e-e992103dcd3f\",\"subtype\":\"Figure\",\"type\":\"Plot\"},\"ticker\":{\"id\":\"4563c466-157d-4fdf-8bf1-2dc5f607d2cd\",\"type\":\"BasicTicker\"}},\"id\":\"5265b471-c791-4625-b56e-45484b0fee19\",\"type\":\"Grid\"},{\"attributes\":{},\"id\":\"6cce1074-6438-4b3c-a5e5-ea870404b4d9\",\"type\":\"ToolEvents\"},{\"attributes\":{\"plot\":null,\"text\":\"oscilloscope\"},\"id\":\"cb02ca73-5be3-4863-af6c-1b8722290629\",\"type\":\"Title\"},{\"attributes\":{\"callback\":null,\"column_names\":[\"left\",\"top\",\"right\",\"bottom\"],\"data\":{\"bottom\":[-0.0999786370433668],\"left\":[-4.096e-06],\"right\":[4.088e-06],\"top\":[0.0999786370433668]}},\"id\":\"461d0875-dcc8-414d-974c-05ab014cbb89\",\"type\":\"ColumnDataSource\"},{\"attributes\":{\"bottom\":{\"field\":\"bottom\"},\"fill_alpha\":{\"value\":0.1},\"fill_color\":{\"value\":\"#1f77b4\"},\"left\":{\"field\":\"left\"},\"line_alpha\":{\"value\":0.1},\"line_color\":{\"value\":\"#1f77b4\"},\"right\":{\"field\":\"right\"},\"top\":{\"field\":\"top\"}},\"id\":\"c6970d7c-b10a-4d28-8d54-4833c3f13bba\",\"type\":\"Quad\"},{\"attributes\":{\"callback\":null,\"end\":1.2,\"start\":-1.2},\"id\":\"d817271d-10a6-4296-8c43-7dde7bfa0f6b\",\"type\":\"Range1d\"},{\"attributes\":{\"data_source\":{\"id\":\"543e7c89-5f70-4e66-bf72-935112585ec9\",\"type\":\"ColumnDataSource\"},\"glyph\":{\"id\":\"bbc27df4-6015-46d9-bf27-20cbe9766a98\",\"type\":\"Quad\"},\"hover_glyph\":null,\"nonselection_glyph\":{\"id\":\"c6970d7c-b10a-4d28-8d54-4833c3f13bba\",\"type\":\"Quad\"},\"selection_glyph\":null},\"id\":\"b72077d1-814b-4b28-9310-12906add0001\",\"type\":\"GlyphRenderer\"},{\"attributes\":{\"plot\":{\"id\":\"6dfeff62-4803-4a04-a14e-e992103dcd3f\",\"subtype\":\"Figure\",\"type\":\"Plot\"}},\"id\":\"d38cd9ba-9ee0-4513-8fc2-08b8a0563110\",\"type\":\"ResetTool\"},{\"attributes\":{\"data_source\":{\"id\":\"1bed3f3f-729b-4496-8d70-fc15a18a4e35\",\"type\":\"ColumnDataSource\"},\"glyph\":{\"id\":\"628c4c8b-f790-43ad-a6d1-daf55fdcc3f5\",\"type\":\"Line\"},\"hover_glyph\":null,\"nonselection_glyph\":{\"id\":\"028a39f6-52b3-41e5-af42-d1cffb938675\",\"type\":\"Line\"},\"selection_glyph\":null},\"id\":\"89b9d6e0-41a2-4a98-9349-5708e718bba3\",\"type\":\"GlyphRenderer\"}],\"root_ids\":[\"6dfeff62-4803-4a04-a14e-e992103dcd3f\"]},\"title\":\"Bokeh Application\",\"version\":\"0.12.4\"}};\n",
       "            var render_items = [{\"docid\":\"4432d23e-ba6a-40ae-ad08-b5ae44470603\",\"elementid\":\"4d7e634b-7d8e-41b9-bbbb-bd964f49a56e\",\"modelid\":\"6dfeff62-4803-4a04-a14e-e992103dcd3f\",\"notebook_comms_target\":\"752f663a-52df-43b0-8fed-9ca3a47e4af1\"}];\n",
       "            \n",
       "            Bokeh.embed.embed_items(docs_json, render_items);\n",
       "          };\n",
       "          if (document.readyState != \"loading\") fn();\n",
       "          else document.addEventListener(\"DOMContentLoaded\", fn);\n",
       "        })();\n",
       "      },\n",
       "      function(Bokeh) {\n",
       "      }\n",
       "    ];\n",
       "  \n",
       "    function run_inline_js() {\n",
       "      \n",
       "      if ((window.Bokeh !== undefined) || (force === true)) {\n",
       "        for (var i = 0; i < inline_js.length; i++) {\n",
       "          inline_js[i](window.Bokeh);\n",
       "        }if (force === true) {\n",
       "          display_loaded();\n",
       "        }} else if (Date.now() < window._bokeh_timeout) {\n",
       "        setTimeout(run_inline_js, 100);\n",
       "      } else if (!window._bokeh_failed_load) {\n",
       "        console.log(\"Bokeh: BokehJS failed to load within specified timeout.\");\n",
       "        window._bokeh_failed_load = true;\n",
       "      } else if (force !== true) {\n",
       "        var cell = $(document.getElementById(\"4d7e634b-7d8e-41b9-bbbb-bd964f49a56e\")).parents('.cell').data().cell;\n",
       "        cell.output_area.append_execute_result(NB_LOAD_WARNING)\n",
       "      }\n",
       "  \n",
       "    }\n",
       "  \n",
       "    if (window._bokeh_is_loading === 0) {\n",
       "      console.log(\"Bokeh: BokehJS loaded, going straight to plotting\");\n",
       "      run_inline_js();\n",
       "    } else {\n",
       "      load_libs(js_urls, function() {\n",
       "        console.log(\"Bokeh: BokehJS plotting callback run at\", now());\n",
       "        run_inline_js();\n",
       "      });\n",
       "    }\n",
       "  }(this));\n",
       "</script>"
      ]
     },
     "metadata": {},
     "output_type": "display_data"
    },
    {
     "data": {
      "application/vnd.jupyter.widget-view+json": {
       "model_id": "3b6e95301883494caa954e1fd92b2014"
      }
     },
     "metadata": {},
     "output_type": "display_data"
    },
    {
     "data": {
      "application/vnd.jupyter.widget-view+json": {
       "model_id": "050d7c07b40f4e3195bd6b4697d15344"
      }
     },
     "metadata": {},
     "output_type": "display_data"
    },
    {
     "data": {
      "application/vnd.jupyter.widget-view+json": {
       "model_id": "ca822b1996d14d4183fd57bc5619459d"
      }
     },
     "metadata": {},
     "output_type": "display_data"
    },
    {
     "data": {
      "application/vnd.jupyter.widget-view+json": {
       "model_id": "8eadf851934f46618d46a538cb3bd673"
      }
     },
     "metadata": {},
     "output_type": "display_data"
    }
   ],
   "source": [
    "app.display()"
   ]
  },
  {
   "cell_type": "code",
   "execution_count": 3,
   "metadata": {
    "collapsed": false,
    "deletable": true,
    "editable": true
   },
   "outputs": [
    {
     "name": "stdout",
     "output_type": "stream",
     "text": [
      "Starting job # 0 in a separate thread.\n"
     ]
    },
    {
     "data": {
      "text/plain": [
       "<BackgroundJob #0: app.run()>"
      ]
     },
     "execution_count": 3,
     "metadata": {},
     "output_type": "execute_result"
    }
   ],
   "source": [
    "from IPython.lib import backgroundjobs as bg\n",
    "jobs = bg.BackgroundJobManager()\n",
    "\n",
    "jobs.new('app.run()')"
   ]
  },
  {
   "cell_type": "code",
   "execution_count": null,
   "metadata": {
    "collapsed": false,
    "deletable": true,
    "editable": true,
    "scrolled": true
   },
   "outputs": [],
   "source": [
    "app.run()"
   ]
  },
  {
   "cell_type": "code",
   "execution_count": null,
   "metadata": {
    "collapsed": false,
    "deletable": true,
    "editable": true
   },
   "outputs": [],
   "source": [
    "jobs.status()"
   ]
  }
 ],
 "metadata": {
  "kernelspec": {
   "display_name": "Python 3",
   "language": "python",
   "name": "python3"
  },
  "language_info": {
   "codemirror_mode": {
    "name": "ipython",
    "version": 3
   },
   "file_extension": ".py",
   "mimetype": "text/x-python",
   "name": "python",
   "nbconvert_exporter": "python",
   "pygments_lexer": "ipython3",
   "version": "3.5.2"
  }
 },
 "nbformat": 4,
 "nbformat_minor": 2
}
