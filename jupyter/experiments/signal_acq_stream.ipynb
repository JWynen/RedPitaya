{
 "cells": [
  {
   "cell_type": "markdown",
   "metadata": {
    "deletable": true,
    "editable": true
   },
   "source": [
    "# On trigger signal acquisition\n",
    "\n",
    "## Description\n",
    "\n",
    "This example shows how to acquire 16k samples of signal on fast analog inputs.\n",
    "Signal will be acquired when the internal trigger condition is meet.\n",
    "Time length of the acquired signal depends on the time scale of a buffer\n",
    "that can be set with a decimation factor.\n",
    "\n",
    "TODO: describe some calculations\n",
    "\n",
    "## Required hardware\n",
    "\n",
    "- Red Pitaya\n",
    "- Signal (function) generator\n",
    "\n",
    "![wiring diagram](img/on_given_trigger_acquire_signal_on_fast_analog_input.png)"
   ]
  },
  {
   "cell_type": "markdown",
   "metadata": {
    "deletable": true,
    "editable": true
   },
   "source": [
    "The `rp` object is an instance of the `redpitaya` class.\n",
    "When the object is initialized, the FPGA bitstream is loaded and\n",
    "memory mapped FPGA registers are mapped into software.\n",
    "Repeating FPGA bitstream loading will cause all registers to reset,\n",
    "while mapping the memory space multiple times will cause segmentation faults.\n",
    "So untill this issues are handled by the driver\n",
    "a `redpitaya` instance should be created only once."
   ]
  },
  {
   "cell_type": "code",
   "execution_count": null,
   "metadata": {
    "collapsed": false,
    "deletable": true,
    "editable": true
   },
   "outputs": [],
   "source": [
    "from mercury import overlay\n",
    "o = overlay(\"mercury\")"
   ]
  },
  {
   "cell_type": "code",
   "execution_count": null,
   "metadata": {
    "collapsed": false,
    "deletable": true,
    "editable": true
   },
   "outputs": [],
   "source": [
    "# generator configuration\n",
    "import numpy as np\n",
    "from mercury import gen\n",
    "\n",
    "# instantiate generator 0 (the other is unused)\n",
    "gen0 = gen(0)\n",
    "\n",
    "# create a sinusoid curve\n",
    "x = np.linspace(-np.pi, np.pi, gen0.N, endpoint=False)\n",
    "wave = np.sin(x)\n",
    "\n",
    "gen0.amplitude = 1.0\n",
    "gen0.offset    = 0\n",
    "# waveform should be loaded before frequency and phase are calculated\n",
    "# this provides the correct buffer size\n",
    "gen0.waveform  = wave\n",
    "gen0.frequency = 10000\n",
    "gen0.phase     = 0\n",
    "gen0.mask      = [0x1, 0x2, 0x4]\n",
    "gen0.start()\n",
    "gen0.trigger()\n",
    "\n",
    "#del(gen0)"
   ]
  },
  {
   "cell_type": "code",
   "execution_count": null,
   "metadata": {
    "collapsed": false,
    "deletable": true,
    "editable": true
   },
   "outputs": [],
   "source": [
    "# acquisition configuration\n",
    "from mercury import osc\n",
    "\n",
    "size = 1024\n",
    "channels = (0, 1)\n",
    "oscs = [osc(ch, 1.0) for ch in channels]\n",
    "\n",
    "for ch in channels:\n",
    "    # TODO: for now bypass input filter\n",
    "    oscs[ch].filter_bypass = True\n",
    "\n",
    "    # trigger timing\n",
    "    oscs[ch].trigger_pre_delay  = size//4*1\n",
    "    oscs[ch].trigger_post_delay = size//4*4\n",
    "\n",
    "    # trigger level [V], edge and holdoff [periods]\n",
    "    oscs[ch].level = [-0.1, +0.1]\n",
    "    oscs[ch].edg = 'pos'\n",
    "    oscs[ch].holdoff = 20\n",
    "\n",
    "    # trigger source mask\n",
    "    mask = [0x1<<10, 0x2<<10, 0x4<<10]\n",
    "    mask[2] |= 0x8<<10\n",
    "    oscs[ch].mask = mask\n",
    "\n",
    "    oscs[ch].reset()\n",
    "\n",
    "oscs[0].start()\n",
    "#oscs[0].trigger()\n",
    "while oscs[0].status_run(): pass\n",
    "print('triggered')\n",
    "\n",
    "# read data from FPGA FIFO into memory and display it\n",
    "buff = [oscs[ch].data(size) for ch in channels];"
   ]
  },
  {
   "cell_type": "code",
   "execution_count": null,
   "metadata": {
    "collapsed": false,
    "deletable": true,
    "editable": true
   },
   "outputs": [],
   "source": [
    "import time\n",
    "import numpy as np\n",
    "\n",
    "from bokeh.io import push_notebook, show, output_notebook\n",
    "from bokeh.models import HoverTool, Range1d\n",
    "from bokeh.plotting import figure\n",
    "from bokeh.resources import INLINE \n",
    "output_notebook(resources=INLINE)"
   ]
  },
  {
   "cell_type": "code",
   "execution_count": null,
   "metadata": {
    "collapsed": false,
    "deletable": true,
    "editable": true,
    "scrolled": false
   },
   "outputs": [],
   "source": [
    "x = np.arange(size) / rp.FS\n",
    "\n",
    "colors = ('red', 'blue')\n",
    "hover = HoverTool(mode = 'vline', tooltips=[(\"T\", \"@x\"), (\"V\", \"@y\")])\n",
    "tools = \"pan,wheel_zoom,box_zoom,reset,crosshair\"\n",
    "p = figure(plot_height=500, plot_width=900, title=\"oscilloscope\", toolbar_location=\"above\", tools=(tools, hover))\n",
    "p.xaxis.axis_label='time [s]'\n",
    "p.yaxis.axis_label='voltage [V]'\n",
    "p.y_range=Range1d(-1.2, 1.2)\n",
    "r = [p.line(x, buff[i], line_width=1, line_alpha=0.7, color=colors[i]) for i in channels]\n",
    "\n",
    "# get an explicit handle to update the next show cell with\n",
    "target = show(p, notebook_handle=True)"
   ]
  },
  {
   "cell_type": "code",
   "execution_count": null,
   "metadata": {
    "collapsed": false,
    "deletable": true,
    "editable": true
   },
   "outputs": [],
   "source": [
    "while True:\n",
    "    oscs[0].reset()\n",
    "    oscs[0].start()\n",
    "    while oscs[0].status_run(): pass\n",
    "    buff = [oscs[ch].data(size) for ch in channels];\n",
    "#    buff = np.absolute(np.fft.fft(buff))\n",
    "    for i in channels:\n",
    "        r[i].data_source.data['y'] = buff[i]\n",
    "    # push updates to the plot continuously using the handle (intererrupt the notebook kernel to stop)\n",
    "    push_notebook(handle=target)\n",
    "#    time.sleep(0.05)"
   ]
  }
 ],
 "metadata": {
  "kernelspec": {
   "display_name": "Python 3",
   "language": "python",
   "name": "python3"
  },
  "language_info": {
   "codemirror_mode": {
    "name": "ipython",
    "version": 3
   },
   "file_extension": ".py",
   "mimetype": "text/x-python",
   "name": "python",
   "nbconvert_exporter": "python",
   "pygments_lexer": "ipython3",
   "version": "3.5.2"
  }
 },
 "nbformat": 4,
 "nbformat_minor": 2
}
