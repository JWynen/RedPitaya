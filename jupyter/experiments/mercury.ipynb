{
 "cells": [
  {
   "cell_type": "markdown",
   "metadata": {
    "deletable": true,
    "editable": true
   },
   "source": [
    "Device tree overlay"
   ]
  },
  {
   "cell_type": "code",
   "execution_count": null,
   "metadata": {
    "collapsed": false,
    "deletable": true,
    "editable": true
   },
   "outputs": [],
   "source": [
    "import os\n",
    "\n",
    "class overlay (object):\n",
    "\n",
    "    def __init__ (self, overlay:str):\n",
    "        if not isinstance(overlay, str):\n",
    "            raise TypeError(\"Bitstream name has to be a string.\")\n",
    "\n",
    "        if os.path.isfile(\"{}.dts\".format(overlay)):\n",
    "            self.overlay = overlay\n",
    "        else:\n",
    "            raise IOError('Device tree overlay {}.dts does not exist.'.format(overlay))\n",
    "\n",
    "        os.system(\"dtc -I dts -O dtb -o {overlay}.dtbo -@ {overlay}.dts\".format(overlay=overlay))\n",
    "        os.system('cat /opt/redpitaya/fpga/{}/fpga.bit > /dev/xdevcfg'.format(overlay))\n",
    "        os.system(\"mkdir /sys/kernel/config/device-tree/overlays/{}\".format(overlay))\n",
    "        os.system(\"cat {overlay}.dtbo > /sys/kernel/config/device-tree/overlays/{overlay}/dtbo\".format(overlay=overlay))\n",
    "\n",
    "    def __del__ (self):\n",
    "        os.system(\"rmdir /sys/kernel/config/device-tree/overlays/{}\".format(overlay))\n",
    "        self.overlay = None"
   ]
  },
  {
   "cell_type": "code",
   "execution_count": null,
   "metadata": {
    "collapsed": false,
    "deletable": true,
    "editable": true
   },
   "outputs": [],
   "source": [
    "o = overlay(\"mercury\")"
   ]
  },
  {
   "cell_type": "code",
   "execution_count": null,
   "metadata": {
    "collapsed": false,
    "deletable": true,
    "editable": true
   },
   "outputs": [],
   "source": [
    "import os\n",
    "import mmap\n",
    "import numpy as np\n",
    "\n",
    "class hwid ():\n",
    "\n",
    "    regset_dtype = np.dtype([\n",
    "        ('hwid' , 'uint32'),\n",
    "        ('rsv0' , 'uint32'),  # reserved\n",
    "        ('efuse', 'uint32'),\n",
    "        ('rsv1' , 'uint32'),  # reserved\n",
    "        ('dna'  , 'uint32', 2),\n",
    "        ('rsv3' , 'uint32', 2),  # reserved\n",
    "        ('gith' , 'uint32', 5)\n",
    "    ])\n",
    "\n",
    "    def __init__ (self, uio:str = '/dev/uio/hwid'):\n",
    "        # TODO add exclusive lock\n",
    "        try:\n",
    "            self.uio_dev = os.open(uio, os.O_RDWR | os.O_SYNC)\n",
    "        except OSError as e:\n",
    "            raise IOError(e.errno, \"Opening {}: {}\".format(uio, e.strerror))\n",
    "\n",
    "        try:\n",
    "            self.uio_mem = mmap.mmap(\n",
    "                fileno=self.uio_dev, length=mmap.PAGESIZE, offset=0x0,\n",
    "                flags=mmap.MAP_SHARED, prot=(mmap.PROT_READ | mmap.PROT_WRITE))\n",
    "        except OSError as e:\n",
    "            raise IOError(e.errno, \"Mapping {}: {}\".format(uio, e.strerror))\n",
    "\n",
    "        regset_array = np.recarray(1, self.regset_dtype, buf=self.uio_mem)\n",
    "        self.regset = regset_array[0]\n",
    "        \n",
    "    def __del__ (self):\n",
    "        self.uio_mem.close()\n",
    "        try:\n",
    "            os.close(self.uio_dev)\n",
    "        except OSError as e:\n",
    "            raise IOError(e.errno, \"Closing {}: {}\".format(uio, e.strerror))"
   ]
  },
  {
   "cell_type": "code",
   "execution_count": null,
   "metadata": {
    "collapsed": false,
    "deletable": true,
    "editable": true
   },
   "outputs": [],
   "source": [
    "regid = hwid();"
   ]
  },
  {
   "cell_type": "code",
   "execution_count": null,
   "metadata": {
    "collapsed": false,
    "deletable": true,
    "editable": true
   },
   "outputs": [],
   "source": [
    "del(regid)"
   ]
  },
  {
   "cell_type": "code",
   "execution_count": null,
   "metadata": {
    "collapsed": false,
    "deletable": true,
    "editable": true
   },
   "outputs": [],
   "source": [
    "regid.regset"
   ]
  },
  {
   "cell_type": "code",
   "execution_count": null,
   "metadata": {
    "collapsed": false,
    "deletable": true,
    "editable": true
   },
   "outputs": [],
   "source": [
    "class asg ():\n",
    "\n",
    "    regset_dtype = np.dtype([\n",
    "        # control/status\n",
    "        ('ctl_sts', 'uint32'),\n",
    "        # trigger configuration\n",
    "        ('cfg_trg', 'uint32'),  # trigger mask\n",
    "        ('rsv0'   , 'uint32', 2),  # reserved\n",
    "        # buffer configuration\n",
    "        ('cfg_siz', 'uint32'),  # size\n",
    "        ('cfg_off', 'uint32'),  # offset\n",
    "        ('cfg_stp', 'uint32'),  # step\n",
    "        ('rsv1'   , 'uint32'),  # reserved\n",
    "        # burst mode\n",
    "        ('cfg_bmd', 'uint32'),  # mode [1:0] = [inf, ben]\n",
    "        ('cfg_bdl', 'uint32'),  # data length\n",
    "        ('cfg_bln', 'uint32'),  # length (data+pause)\n",
    "        ('cfg_bnm', 'uint32'),  # number of bursts pulses\n",
    "        # burst status\n",
    "        ('sts_bln', 'uint32'),  # length (current position inside burst length)\n",
    "        ('sts_bnm', 'uint32'),  # number (current burst counter)\n",
    "        # linear transformation\n",
    "        ('cfg_mul',  'int32'),  # multiplier (amplitude)\n",
    "        ('cfg_sum',  'int32')   # addedr (offset)\n",
    "    ])\n",
    "\n",
    "    def __init__ (self, index:int, uio:str = '/dev/uio/asg'):\n",
    "        uio = uio+str(index)\n",
    "        # TODO add exclusive lock\n",
    "        try:\n",
    "            self.uio_dev = os.open(uio, os.O_RDWR | os.O_SYNC)\n",
    "        except OSError as e:\n",
    "            raise IOError(e.errno, \"Opening {}: {}\".format(uio, e.strerror))\n",
    "\n",
    "        try:\n",
    "            self.uio_mem = mmap.mmap(\n",
    "                fileno=self.uio_dev, length=mmap.PAGESIZE, offset=0x0,\n",
    "                flags=mmap.MAP_SHARED, prot=(mmap.PROT_READ | mmap.PROT_WRITE))\n",
    "        except OSError as e:\n",
    "            raise IOError(e.errno, \"Mapping {}: {}\".format(uio, e.strerror))\n",
    "\n",
    "        regset_array = np.recarray(1, self.regset_dtype, buf=self.uio_mem)\n",
    "        self.regset = regset_array[0]\n",
    "        \n",
    "    def __del__ (self):\n",
    "        self.uio_mem.close()\n",
    "        try:\n",
    "            os.close(self.uio_dev)\n",
    "        except OSError as e:\n",
    "            raise IOError(e.errno, \"Closing {}: {}\".format(uio, e.strerror))"
   ]
  },
  {
   "cell_type": "code",
   "execution_count": null,
   "metadata": {
    "collapsed": true
   },
   "outputs": [],
   "source": []
  }
 ],
 "metadata": {
  "kernelspec": {
   "display_name": "Python 3",
   "language": "python",
   "name": "python3"
  },
  "language_info": {
   "codemirror_mode": {
    "name": "ipython",
    "version": 3
   },
   "file_extension": ".py",
   "mimetype": "text/x-python",
   "name": "python",
   "nbconvert_exporter": "python",
   "pygments_lexer": "ipython3",
   "version": "3.5.2"
  }
 },
 "nbformat": 4,
 "nbformat_minor": 2
}
